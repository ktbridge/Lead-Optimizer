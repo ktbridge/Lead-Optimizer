{
  "cells": [
    {
      "cell_type": "code",
      "execution_count": 2,
      "metadata": {
        "id": "PhT8-u0Dwycc"
      },
      "outputs": [],
      "source": [
        "import warnings\n",
        "warnings.filterwarnings(\"ignore\")"
      ]
    },
    {
      "cell_type": "code",
      "execution_count": null,
      "metadata": {
        "colab": {
          "base_uri": "https://localhost:8080/"
        },
        "collapsed": true,
        "id": "Fesr4A6Y0OJC",
        "outputId": "47e392af-bd78-45f8-c40a-de22a00843b4"
      },
      "outputs": [],
      "source": [
        "!pip install -q shap\n",
        "!pip install -q lime\n",
        "!pip install -q streamlit\n",
        "!pip install -q xgboost"
      ]
    },
    {
      "cell_type": "code",
      "execution_count": 76,
      "metadata": {
        "id": "MknJs1ZGl_B4"
      },
      "outputs": [],
      "source": [
        "import pandas as pd\n",
        "import numpy as np\n",
        "import matplotlib.pyplot as plt\n",
        "import seaborn as sns\n",
        "from sklearn.naive_bayes import GaussianNB\n",
        "from sklearn.neighbors import KNeighborsClassifier\n",
        "from sklearn import svm\n",
        "from sklearn.linear_model import LogisticRegression\n",
        "from sklearn.discriminant_analysis import LinearDiscriminantAnalysis\n",
        "from sklearn.tree import DecisionTreeClassifier\n",
        "from sklearn.ensemble import RandomForestClassifier\n",
        "import xgboost as xgb\n",
        "from sklearn.cluster import AgglomerativeClustering\n",
        "from sklearn.metrics import accuracy_score, classification_report, confusion_matrix, silhouette_score\n",
        "from sklearn.preprocessing import StandardScaler, MinMaxScaler, RobustScaler\n",
        "from sklearn.model_selection import train_test_split, GridSearchCV\n",
        "import shap\n",
        "import pickle\n",
        "\n",
        "pd.set_option('display.max_columns', None)\n",
        "pd.set_option('display.max_rows', None)"
      ]
    },
    {
      "cell_type": "code",
      "execution_count": 4,
      "metadata": {},
      "outputs": [
        {
          "data": {
            "text/html": [
              "<div>\n",
              "<style scoped>\n",
              "    .dataframe tbody tr th:only-of-type {\n",
              "        vertical-align: middle;\n",
              "    }\n",
              "\n",
              "    .dataframe tbody tr th {\n",
              "        vertical-align: top;\n",
              "    }\n",
              "\n",
              "    .dataframe thead th {\n",
              "        text-align: right;\n",
              "    }\n",
              "</style>\n",
              "<table border=\"1\" class=\"dataframe\">\n",
              "  <thead>\n",
              "    <tr style=\"text-align: right;\">\n",
              "      <th></th>\n",
              "      <th>Unnamed: 0</th>\n",
              "      <th>Lead_ID</th>\n",
              "      <th>Lead_Type</th>\n",
              "      <th>Marketing_Campaign</th>\n",
              "      <th>Campaign_Type</th>\n",
              "      <th>Campaign_Cost</th>\n",
              "      <th>Attended_Event</th>\n",
              "      <th>Cost_to_Acquire_Lead</th>\n",
              "      <th>Times_Contacted</th>\n",
              "      <th>Days_to_Respond</th>\n",
              "      <th>Engagement_Level</th>\n",
              "      <th>Lead_State</th>\n",
              "      <th>Lead_Acquired</th>\n",
              "    </tr>\n",
              "  </thead>\n",
              "  <tbody>\n",
              "    <tr>\n",
              "      <th>0</th>\n",
              "      <td>0</td>\n",
              "      <td>1</td>\n",
              "      <td>Individual</td>\n",
              "      <td>SpringGrowth</td>\n",
              "      <td>Online</td>\n",
              "      <td>1091.77</td>\n",
              "      <td>1</td>\n",
              "      <td>597.0</td>\n",
              "      <td>5</td>\n",
              "      <td>14</td>\n",
              "      <td>Low</td>\n",
              "      <td>PA</td>\n",
              "      <td>0</td>\n",
              "    </tr>\n",
              "    <tr>\n",
              "      <th>1</th>\n",
              "      <td>1</td>\n",
              "      <td>2</td>\n",
              "      <td>Non-Profit</td>\n",
              "      <td>AutumnAwareness</td>\n",
              "      <td>In-Person</td>\n",
              "      <td>3900.21</td>\n",
              "      <td>0</td>\n",
              "      <td>3587.0</td>\n",
              "      <td>1</td>\n",
              "      <td>12</td>\n",
              "      <td>Low</td>\n",
              "      <td>PA</td>\n",
              "      <td>0</td>\n",
              "    </tr>\n",
              "    <tr>\n",
              "      <th>2</th>\n",
              "      <td>2</td>\n",
              "      <td>3</td>\n",
              "      <td>Corporate</td>\n",
              "      <td>YearEndPush</td>\n",
              "      <td>Online</td>\n",
              "      <td>2065.00</td>\n",
              "      <td>1</td>\n",
              "      <td>6142.0</td>\n",
              "      <td>6</td>\n",
              "      <td>0</td>\n",
              "      <td>Very High</td>\n",
              "      <td>NC</td>\n",
              "      <td>1</td>\n",
              "    </tr>\n",
              "    <tr>\n",
              "      <th>3</th>\n",
              "      <td>3</td>\n",
              "      <td>4</td>\n",
              "      <td>Individual</td>\n",
              "      <td>YearEndPush</td>\n",
              "      <td>Online</td>\n",
              "      <td>2035.61</td>\n",
              "      <td>0</td>\n",
              "      <td>821.0</td>\n",
              "      <td>3</td>\n",
              "      <td>16</td>\n",
              "      <td>Low</td>\n",
              "      <td>NC</td>\n",
              "      <td>0</td>\n",
              "    </tr>\n",
              "    <tr>\n",
              "      <th>4</th>\n",
              "      <td>4</td>\n",
              "      <td>5</td>\n",
              "      <td>Individual</td>\n",
              "      <td>SummerSales</td>\n",
              "      <td>In-Person</td>\n",
              "      <td>3398.27</td>\n",
              "      <td>1</td>\n",
              "      <td>10562.0</td>\n",
              "      <td>3</td>\n",
              "      <td>2</td>\n",
              "      <td>Medium</td>\n",
              "      <td>TX</td>\n",
              "      <td>1</td>\n",
              "    </tr>\n",
              "  </tbody>\n",
              "</table>\n",
              "</div>"
            ],
            "text/plain": [
              "   Unnamed: 0  Lead_ID   Lead_Type Marketing_Campaign Campaign_Type  \\\n",
              "0           0        1  Individual       SpringGrowth        Online   \n",
              "1           1        2  Non-Profit    AutumnAwareness     In-Person   \n",
              "2           2        3   Corporate        YearEndPush        Online   \n",
              "3           3        4  Individual        YearEndPush        Online   \n",
              "4           4        5  Individual        SummerSales     In-Person   \n",
              "\n",
              "   Campaign_Cost  Attended_Event  Cost_to_Acquire_Lead  Times_Contacted  \\\n",
              "0        1091.77               1                 597.0                5   \n",
              "1        3900.21               0                3587.0                1   \n",
              "2        2065.00               1                6142.0                6   \n",
              "3        2035.61               0                 821.0                3   \n",
              "4        3398.27               1               10562.0                3   \n",
              "\n",
              "   Days_to_Respond Engagement_Level Lead_State  Lead_Acquired  \n",
              "0               14              Low         PA              0  \n",
              "1               12              Low         PA              0  \n",
              "2                0        Very High         NC              1  \n",
              "3               16              Low         NC              0  \n",
              "4                2           Medium         TX              1  "
            ]
          },
          "execution_count": 4,
          "metadata": {},
          "output_type": "execute_result"
        }
      ],
      "source": [
        "df_s = pd.read_csv(\"leads_dataset.csv\")\n",
        "df_s.head(5)"
      ]
    },
    {
      "cell_type": "code",
      "execution_count": 5,
      "metadata": {},
      "outputs": [],
      "source": [
        "df_s.drop(columns = 'Unnamed: 0', inplace = True)"
      ]
    },
    {
      "cell_type": "markdown",
      "metadata": {
        "id": "mKFlAiFonSzP"
      },
      "source": [
        "#<font color=\"lightgreen\">1) EDA:</font>"
      ]
    },
    {
      "cell_type": "code",
      "execution_count": 6,
      "metadata": {},
      "outputs": [
        {
          "data": {
            "text/plain": [
              "(10000, 12)"
            ]
          },
          "execution_count": 6,
          "metadata": {},
          "output_type": "execute_result"
        }
      ],
      "source": [
        "df_s.shape"
      ]
    },
    {
      "cell_type": "code",
      "execution_count": 7,
      "metadata": {},
      "outputs": [
        {
          "data": {
            "text/plain": [
              "<Axes: xlabel='Lead_Acquired'>"
            ]
          },
          "execution_count": 7,
          "metadata": {},
          "output_type": "execute_result"
        },
        {
          "data": {
            "image/png": "[encoded data removed]",
            "text/plain": [
              "<Figure size 640x480 with 1 Axes>"
            ]
          },
          "metadata": {},
          "output_type": "display_data"
        }
      ],
      "source": [
        "df_s[\"Lead_Acquired\"].value_counts().plot(kind = \"bar\", edgecolor = \"#738BA3\", color = \"#89BAEB\")"
      ]
    },
    {
      "cell_type": "code",
      "execution_count": 11,
      "metadata": {},
      "outputs": [
        {
          "data": {
            "text/html": [
              "<div>\n",
              "<style scoped>\n",
              "    .dataframe tbody tr th:only-of-type {\n",
              "        vertical-align: middle;\n",
              "    }\n",
              "\n",
              "    .dataframe tbody tr th {\n",
              "        vertical-align: top;\n",
              "    }\n",
              "\n",
              "    .dataframe thead th {\n",
              "        text-align: right;\n",
              "    }\n",
              "</style>\n",
              "<table border=\"1\" class=\"dataframe\">\n",
              "  <thead>\n",
              "    <tr style=\"text-align: right;\">\n",
              "      <th></th>\n",
              "      <th>Lead_ID</th>\n",
              "      <th>Campaign_Cost</th>\n",
              "      <th>Attended_Event</th>\n",
              "      <th>Cost_to_Acquire_Lead</th>\n",
              "      <th>Times_Contacted</th>\n",
              "      <th>Days_to_Respond</th>\n",
              "      <th>Lead_Acquired</th>\n",
              "    </tr>\n",
              "  </thead>\n",
              "  <tbody>\n",
              "    <tr>\n",
              "      <th>count</th>\n",
              "      <td>5193.000000</td>\n",
              "      <td>5193.000000</td>\n",
              "      <td>5193.00000</td>\n",
              "      <td>5193.000000</td>\n",
              "      <td>5193.000000</td>\n",
              "      <td>5193.000000</td>\n",
              "      <td>5193.0</td>\n",
              "    </tr>\n",
              "    <tr>\n",
              "      <th>mean</th>\n",
              "      <td>5030.183131</td>\n",
              "      <td>2640.649255</td>\n",
              "      <td>0.48912</td>\n",
              "      <td>2549.248989</td>\n",
              "      <td>3.015790</td>\n",
              "      <td>10.607549</td>\n",
              "      <td>0.0</td>\n",
              "    </tr>\n",
              "    <tr>\n",
              "      <th>std</th>\n",
              "      <td>2877.726825</td>\n",
              "      <td>1046.043997</td>\n",
              "      <td>0.49993</td>\n",
              "      <td>1400.964472</td>\n",
              "      <td>1.744168</td>\n",
              "      <td>5.134219</td>\n",
              "      <td>0.0</td>\n",
              "    </tr>\n",
              "    <tr>\n",
              "      <th>min</th>\n",
              "      <td>1.000000</td>\n",
              "      <td>629.510000</td>\n",
              "      <td>0.00000</td>\n",
              "      <td>100.000000</td>\n",
              "      <td>0.000000</td>\n",
              "      <td>2.000000</td>\n",
              "      <td>0.0</td>\n",
              "    </tr>\n",
              "    <tr>\n",
              "      <th>25%</th>\n",
              "      <td>2526.000000</td>\n",
              "      <td>1895.850000</td>\n",
              "      <td>0.00000</td>\n",
              "      <td>1342.000000</td>\n",
              "      <td>2.000000</td>\n",
              "      <td>6.000000</td>\n",
              "      <td>0.0</td>\n",
              "    </tr>\n",
              "    <tr>\n",
              "      <th>50%</th>\n",
              "      <td>5068.000000</td>\n",
              "      <td>2280.600000</td>\n",
              "      <td>0.00000</td>\n",
              "      <td>2560.000000</td>\n",
              "      <td>3.000000</td>\n",
              "      <td>11.000000</td>\n",
              "      <td>0.0</td>\n",
              "    </tr>\n",
              "    <tr>\n",
              "      <th>75%</th>\n",
              "      <td>7511.000000</td>\n",
              "      <td>3302.330000</td>\n",
              "      <td>1.00000</td>\n",
              "      <td>3746.000000</td>\n",
              "      <td>4.000000</td>\n",
              "      <td>15.000000</td>\n",
              "      <td>0.0</td>\n",
              "    </tr>\n",
              "    <tr>\n",
              "      <th>max</th>\n",
              "      <td>9999.000000</td>\n",
              "      <td>6577.510000</td>\n",
              "      <td>1.00000</td>\n",
              "      <td>4999.000000</td>\n",
              "      <td>11.000000</td>\n",
              "      <td>19.000000</td>\n",
              "      <td>0.0</td>\n",
              "    </tr>\n",
              "  </tbody>\n",
              "</table>\n",
              "</div>"
            ],
            "text/plain": [
              "           Lead_ID  Campaign_Cost  Attended_Event  Cost_to_Acquire_Lead  \\\n",
              "count  5193.000000    5193.000000      5193.00000           5193.000000   \n",
              "mean   5030.183131    2640.649255         0.48912           2549.248989   \n",
              "std    2877.726825    1046.043997         0.49993           1400.964472   \n",
              "min       1.000000     629.510000         0.00000            100.000000   \n",
              "25%    2526.000000    1895.850000         0.00000           1342.000000   \n",
              "50%    5068.000000    2280.600000         0.00000           2560.000000   \n",
              "75%    7511.000000    3302.330000         1.00000           3746.000000   \n",
              "max    9999.000000    6577.510000         1.00000           4999.000000   \n",
              "\n",
              "       Times_Contacted  Days_to_Respond  Lead_Acquired  \n",
              "count      5193.000000      5193.000000         5193.0  \n",
              "mean          3.015790        10.607549            0.0  \n",
              "std           1.744168         5.134219            0.0  \n",
              "min           0.000000         2.000000            0.0  \n",
              "25%           2.000000         6.000000            0.0  \n",
              "50%           3.000000        11.000000            0.0  \n",
              "75%           4.000000        15.000000            0.0  \n",
              "max          11.000000        19.000000            0.0  "
            ]
          },
          "execution_count": 11,
          "metadata": {},
          "output_type": "execute_result"
        }
      ],
      "source": [
        "df_s[df_s[\"Lead_Acquired\"]==0].describe()"
      ]
    },
    {
      "cell_type": "code",
      "execution_count": 12,
      "metadata": {},
      "outputs": [
        {
          "data": {
            "text/html": [
              "<div>\n",
              "<style scoped>\n",
              "    .dataframe tbody tr th:only-of-type {\n",
              "        vertical-align: middle;\n",
              "    }\n",
              "\n",
              "    .dataframe tbody tr th {\n",
              "        vertical-align: top;\n",
              "    }\n",
              "\n",
              "    .dataframe thead th {\n",
              "        text-align: right;\n",
              "    }\n",
              "</style>\n",
              "<table border=\"1\" class=\"dataframe\">\n",
              "  <thead>\n",
              "    <tr style=\"text-align: right;\">\n",
              "      <th></th>\n",
              "      <th>Lead_ID</th>\n",
              "      <th>Campaign_Cost</th>\n",
              "      <th>Attended_Event</th>\n",
              "      <th>Cost_to_Acquire_Lead</th>\n",
              "      <th>Times_Contacted</th>\n",
              "      <th>Days_to_Respond</th>\n",
              "      <th>Lead_Acquired</th>\n",
              "    </tr>\n",
              "  </thead>\n",
              "  <tbody>\n",
              "    <tr>\n",
              "      <th>count</th>\n",
              "      <td>4807.000000</td>\n",
              "      <td>4807.000000</td>\n",
              "      <td>4807.000000</td>\n",
              "      <td>4807.000000</td>\n",
              "      <td>4807.000000</td>\n",
              "      <td>4807.000000</td>\n",
              "      <td>4807.0</td>\n",
              "    </tr>\n",
              "    <tr>\n",
              "      <th>mean</th>\n",
              "      <td>4968.433326</td>\n",
              "      <td>2770.636880</td>\n",
              "      <td>0.502392</td>\n",
              "      <td>9354.844186</td>\n",
              "      <td>2.984190</td>\n",
              "      <td>3.488662</td>\n",
              "      <td>1.0</td>\n",
              "    </tr>\n",
              "    <tr>\n",
              "      <th>std</th>\n",
              "      <td>2896.725801</td>\n",
              "      <td>1094.748748</td>\n",
              "      <td>0.500046</td>\n",
              "      <td>4504.468430</td>\n",
              "      <td>1.720528</td>\n",
              "      <td>2.276147</td>\n",
              "      <td>0.0</td>\n",
              "    </tr>\n",
              "    <tr>\n",
              "      <th>min</th>\n",
              "      <td>3.000000</td>\n",
              "      <td>530.160000</td>\n",
              "      <td>0.000000</td>\n",
              "      <td>1501.000000</td>\n",
              "      <td>0.000000</td>\n",
              "      <td>0.000000</td>\n",
              "      <td>1.0</td>\n",
              "    </tr>\n",
              "    <tr>\n",
              "      <th>25%</th>\n",
              "      <td>2473.000000</td>\n",
              "      <td>1932.590000</td>\n",
              "      <td>0.000000</td>\n",
              "      <td>5359.500000</td>\n",
              "      <td>2.000000</td>\n",
              "      <td>2.000000</td>\n",
              "      <td>1.0</td>\n",
              "    </tr>\n",
              "    <tr>\n",
              "      <th>50%</th>\n",
              "      <td>4938.000000</td>\n",
              "      <td>2403.360000</td>\n",
              "      <td>1.000000</td>\n",
              "      <td>9473.000000</td>\n",
              "      <td>3.000000</td>\n",
              "      <td>4.000000</td>\n",
              "      <td>1.0</td>\n",
              "    </tr>\n",
              "    <tr>\n",
              "      <th>75%</th>\n",
              "      <td>7482.500000</td>\n",
              "      <td>3590.570000</td>\n",
              "      <td>1.000000</td>\n",
              "      <td>13234.000000</td>\n",
              "      <td>4.000000</td>\n",
              "      <td>5.000000</td>\n",
              "      <td>1.0</td>\n",
              "    </tr>\n",
              "    <tr>\n",
              "      <th>max</th>\n",
              "      <td>10000.000000</td>\n",
              "      <td>6651.700000</td>\n",
              "      <td>1.000000</td>\n",
              "      <td>16998.000000</td>\n",
              "      <td>11.000000</td>\n",
              "      <td>7.000000</td>\n",
              "      <td>1.0</td>\n",
              "    </tr>\n",
              "  </tbody>\n",
              "</table>\n",
              "</div>"
            ],
            "text/plain": [
              "            Lead_ID  Campaign_Cost  Attended_Event  Cost_to_Acquire_Lead  \\\n",
              "count   4807.000000    4807.000000     4807.000000           4807.000000   \n",
              "mean    4968.433326    2770.636880        0.502392           9354.844186   \n",
              "std     2896.725801    1094.748748        0.500046           4504.468430   \n",
              "min        3.000000     530.160000        0.000000           1501.000000   \n",
              "25%     2473.000000    1932.590000        0.000000           5359.500000   \n",
              "50%     4938.000000    2403.360000        1.000000           9473.000000   \n",
              "75%     7482.500000    3590.570000        1.000000          13234.000000   \n",
              "max    10000.000000    6651.700000        1.000000          16998.000000   \n",
              "\n",
              "       Times_Contacted  Days_to_Respond  Lead_Acquired  \n",
              "count      4807.000000      4807.000000         4807.0  \n",
              "mean          2.984190         3.488662            1.0  \n",
              "std           1.720528         2.276147            0.0  \n",
              "min           0.000000         0.000000            1.0  \n",
              "25%           2.000000         2.000000            1.0  \n",
              "50%           3.000000         4.000000            1.0  \n",
              "75%           4.000000         5.000000            1.0  \n",
              "max          11.000000         7.000000            1.0  "
            ]
          },
          "execution_count": 12,
          "metadata": {},
          "output_type": "execute_result"
        }
      ],
      "source": [
        "df_s[df_s[\"Lead_Acquired\"]==1].describe()"
      ]
    },
    {
      "cell_type": "code",
      "execution_count": 13,
      "metadata": {},
      "outputs": [
        {
          "name": "stdout",
          "output_type": "stream",
          "text": [
            "<class 'pandas.core.frame.DataFrame'>\n",
            "RangeIndex: 10000 entries, 0 to 9999\n",
            "Data columns (total 12 columns):\n",
            " #   Column                Non-Null Count  Dtype  \n",
            "---  ------                --------------  -----  \n",
            " 0   Lead_ID               10000 non-null  int64  \n",
            " 1   Lead_Type             10000 non-null  object \n",
            " 2   Marketing_Campaign    10000 non-null  object \n",
            " 3   Campaign_Type         10000 non-null  object \n",
            " 4   Campaign_Cost         10000 non-null  float64\n",
            " 5   Attended_Event        10000 non-null  int64  \n",
            " 6   Cost_to_Acquire_Lead  10000 non-null  float64\n",
            " 7   Times_Contacted       10000 non-null  int64  \n",
            " 8   Days_to_Respond       10000 non-null  int64  \n",
            " 9   Engagement_Level      10000 non-null  object \n",
            " 10  Lead_State            10000 non-null  object \n",
            " 11  Lead_Acquired         10000 non-null  int64  \n",
            "dtypes: float64(2), int64(5), object(5)\n",
            "memory usage: 937.6+ KB\n"
          ]
        }
      ],
      "source": [
        "df_s.info()"
      ]
    },
    {
      "cell_type": "markdown",
      "metadata": {
        "id": "3rK__SNHnVUX"
      },
      "source": [
        "<font color=\"yellow\">- Let's\n",
        "- eliminate columns that have 80%+ missing data\n",
        "- eliminate rows that have 80%+ missing data\n",
        "- drop the columns that have the same data\n",
        "- drop unnecessary columns\n",
        "- preprocess columns representing cost and engineer new feature based on them\n",
        "</font>"
      ]
    },
    {
      "cell_type": "code",
      "execution_count": 14,
      "metadata": {
        "id": "ZRzX0JFumMiP"
      },
      "outputs": [],
      "source": [
        "def preprocess(df):\n",
        "  df_s.drop(columns = \"Lead_ID\", inplace = True)\n",
        "  return df_s\n",
        "df_s = preprocess(df_s)"
      ]
    },
    {
      "cell_type": "code",
      "execution_count": 15,
      "metadata": {},
      "outputs": [
        {
          "data": {
            "text/plain": [
              "Lead_Type               0\n",
              "Marketing_Campaign      0\n",
              "Campaign_Type           0\n",
              "Campaign_Cost           0\n",
              "Attended_Event          0\n",
              "Cost_to_Acquire_Lead    0\n",
              "Times_Contacted         0\n",
              "Days_to_Respond         0\n",
              "Engagement_Level        0\n",
              "Lead_State              0\n",
              "Lead_Acquired           0\n",
              "dtype: int64"
            ]
          },
          "execution_count": 15,
          "metadata": {},
          "output_type": "execute_result"
        }
      ],
      "source": [
        "df_s.isnull().sum()"
      ]
    },
    {
      "cell_type": "code",
      "execution_count": 16,
      "metadata": {},
      "outputs": [],
      "source": [
        "def preprocess_0(df):\n",
        "    df[\"Total_Campaign_Cost\"] = df[\"Campaign_Cost\"] + df[\"Cost_to_Acquire_Lead\"]\n",
        "    df.drop(columns = [\"Campaign_Cost\", \"Cost_to_Acquire_Lead\"], inplace = True)\n",
        "    return df_s\n",
        "df_s = preprocess_0(df_s)"
      ]
    },
    {
      "cell_type": "code",
      "execution_count": 17,
      "metadata": {
        "collapsed": true,
        "id": "HCoLdt1Kmkm9"
      },
      "outputs": [],
      "source": [
        "def preprocess_1(df):\n",
        "  null_col = df.isnull().mean()\n",
        "  col_to_drop = null_col[null_col>0.8].index\n",
        "  df.drop(columns = col_to_drop, inplace = True)\n",
        "  nul_rows = df.isnull().mean(axis = 1)\n",
        "  rows_to_drop = nul_rows[nul_rows>0.8].index\n",
        "  df.drop(index = rows_to_drop, inplace = True)\n",
        "  same_values = df.apply(lambda i:i.nunique() == 1) # if there is only 1 unique value, meaning all values are the same\n",
        "  col_w_same_values = same_values[same_values].index.tolist()\n",
        "  df.drop(columns = col_w_same_values, inplace = True)\n",
        "\n",
        "  return df"
      ]
    },
    {
      "cell_type": "code",
      "execution_count": 19,
      "metadata": {
        "id": "lhKdVp1QZzBx"
      },
      "outputs": [],
      "source": [
        "df_s = preprocess_1(df_s)"
      ]
    },
    {
      "cell_type": "markdown",
      "metadata": {
        "id": "xvnE0E9jnud-"
      },
      "source": [
        "<font color = \"yellow\"> - Let's see what type of data our dataset has:</font>"
      ]
    },
    {
      "cell_type": "code",
      "execution_count": 20,
      "metadata": {
        "colab": {
          "base_uri": "https://localhost:8080/"
        },
        "id": "mKm5UAu_nxVh",
        "outputId": "fa5ea060-d9dc-4693-f07c-3b0447c79456"
      },
      "outputs": [
        {
          "name": "stdout",
          "output_type": "stream",
          "text": [
            "All columns were reviewed for datatype!\n"
          ]
        }
      ],
      "source": [
        "def check_datatype(df):\n",
        "  df_datetime = df.select_dtypes(include = [\"datetime\", \"datetimetz\"])\n",
        "  df_cat = df[list(set(df)-set(df_datetime))].select_dtypes(include = [\"object\", \"category\"])\n",
        "  df_num = df.select_dtypes(include = [\"float\", \"int\"])\n",
        "  # to make sure all columns were reviewed:\n",
        "  if len(df_num.columns) + len(df_cat.columns) + len(df_datetime.columns) == len(df.columns):\n",
        "    print(\"All columns were reviewed for datatype!\")\n",
        "  else:\n",
        "    print(\"Some columns were not reviewed.\")\n",
        "\n",
        "check_datatype(df_s)"
      ]
    },
    {
      "cell_type": "markdown",
      "metadata": {
        "id": "hJA04G8Wn6V9"
      },
      "source": [
        "<font color = \"yellow\">- Lets'\n",
        "- combine datetime and df_num in one df_num dataframe\n",
        "- replace missing categorical values with the \"Unknown\" values - if any\n",
        "- replace missing numerical values with the average values - if any\n",
        "</font>"
      ]
    },
    {
      "cell_type": "code",
      "execution_count": 21,
      "metadata": {
        "collapsed": true,
        "id": "-dAf64VDn2Kk"
      },
      "outputs": [],
      "source": [
        "def preprocess_2(df):\n",
        "  df_datetime = df.select_dtypes(include = [\"datetime\", \"datetimetz\"])\n",
        "  df_cat = df[list(set(df)-set(df_datetime))].select_dtypes(include = [\"object\", \"category\"])\n",
        "  df_num = df.select_dtypes(include = [\"float\", \"int\"])\n",
        "  df_datetime.dropna(inplace = True)\n",
        "  df_datetime = df_datetime.applymap(lambda x: np.nan if x < 0 else x)\n",
        "  df_datetime = df_datetime.apply(lambda col: col.fillna(col[col >= 0].mean()))\n",
        "  df_num = pd.concat([df_num, df_datetime], axis = 1, join = \"inner\")\n",
        "  df_cat.fillna(\"Unknown\", inplace = True)\n",
        "  unknown_count = df_cat.apply(lambda x: x.str.contains(\"Unknown\", case=False, na=False)).sum().sum()\n",
        "  for i in df_num.columns:\n",
        "    df_num[i].fillna(df_num[i].mean(), inplace = True)\n",
        "  return df, df_num, df_cat, df_datetime"
      ]
    },
    {
      "cell_type": "code",
      "execution_count": 22,
      "metadata": {
        "id": "_Dthpk3ovogl"
      },
      "outputs": [],
      "source": [
        "df_s, df_num, df_cat, df_datetime = preprocess_2(df_s)"
      ]
    },
    {
      "cell_type": "markdown",
      "metadata": {
        "id": "DPC3J1Qay0z-"
      },
      "source": [
        "<font color=\"yellow\">-Let's check for high correlation and p-test in numerical features:</font>"
      ]
    },
    {
      "cell_type": "code",
      "execution_count": 23,
      "metadata": {
        "id": "TKXcgOjlrmKj"
      },
      "outputs": [],
      "source": [
        "scaler = StandardScaler()\n",
        "normalized_data = scaler.fit_transform(df_num)\n",
        "normalized_df = pd.DataFrame(normalized_data, columns=df_num.columns)\n",
        "correlation_matrix = normalized_df.corr()"
      ]
    },
    {
      "cell_type": "code",
      "execution_count": 24,
      "metadata": {},
      "outputs": [
        {
          "data": {
            "text/html": [
              "<div>\n",
              "<style scoped>\n",
              "    .dataframe tbody tr th:only-of-type {\n",
              "        vertical-align: middle;\n",
              "    }\n",
              "\n",
              "    .dataframe tbody tr th {\n",
              "        vertical-align: top;\n",
              "    }\n",
              "\n",
              "    .dataframe thead th {\n",
              "        text-align: right;\n",
              "    }\n",
              "</style>\n",
              "<table border=\"1\" class=\"dataframe\">\n",
              "  <thead>\n",
              "    <tr style=\"text-align: right;\">\n",
              "      <th></th>\n",
              "      <th>Attended_Event</th>\n",
              "      <th>Times_Contacted</th>\n",
              "      <th>Days_to_Respond</th>\n",
              "      <th>Lead_Acquired</th>\n",
              "      <th>Total_Campaign_Cost</th>\n",
              "    </tr>\n",
              "  </thead>\n",
              "  <tbody>\n",
              "    <tr>\n",
              "      <th>Attended_Event</th>\n",
              "      <td>1.000000</td>\n",
              "      <td>-0.020428</td>\n",
              "      <td>-0.015875</td>\n",
              "      <td>0.013263</td>\n",
              "      <td>0.006516</td>\n",
              "    </tr>\n",
              "    <tr>\n",
              "      <th>Times_Contacted</th>\n",
              "      <td>-0.020428</td>\n",
              "      <td>1.000000</td>\n",
              "      <td>0.019594</td>\n",
              "      <td>-0.009112</td>\n",
              "      <td>-0.015188</td>\n",
              "    </tr>\n",
              "    <tr>\n",
              "      <th>Days_to_Respond</th>\n",
              "      <td>-0.015875</td>\n",
              "      <td>0.019594</td>\n",
              "      <td>1.000000</td>\n",
              "      <td>-0.662460</td>\n",
              "      <td>-0.474743</td>\n",
              "    </tr>\n",
              "    <tr>\n",
              "      <th>Lead_Acquired</th>\n",
              "      <td>0.013263</td>\n",
              "      <td>-0.009112</td>\n",
              "      <td>-0.662460</td>\n",
              "      <td>1.000000</td>\n",
              "      <td>0.708324</td>\n",
              "    </tr>\n",
              "    <tr>\n",
              "      <th>Total_Campaign_Cost</th>\n",
              "      <td>0.006516</td>\n",
              "      <td>-0.015188</td>\n",
              "      <td>-0.474743</td>\n",
              "      <td>0.708324</td>\n",
              "      <td>1.000000</td>\n",
              "    </tr>\n",
              "  </tbody>\n",
              "</table>\n",
              "</div>"
            ],
            "text/plain": [
              "                     Attended_Event  Times_Contacted  Days_to_Respond  \\\n",
              "Attended_Event             1.000000        -0.020428        -0.015875   \n",
              "Times_Contacted           -0.020428         1.000000         0.019594   \n",
              "Days_to_Respond           -0.015875         0.019594         1.000000   \n",
              "Lead_Acquired              0.013263        -0.009112        -0.662460   \n",
              "Total_Campaign_Cost        0.006516        -0.015188        -0.474743   \n",
              "\n",
              "                     Lead_Acquired  Total_Campaign_Cost  \n",
              "Attended_Event            0.013263             0.006516  \n",
              "Times_Contacted          -0.009112            -0.015188  \n",
              "Days_to_Respond          -0.662460            -0.474743  \n",
              "Lead_Acquired             1.000000             0.708324  \n",
              "Total_Campaign_Cost       0.708324             1.000000  "
            ]
          },
          "execution_count": 24,
          "metadata": {},
          "output_type": "execute_result"
        }
      ],
      "source": [
        "correlation_matrix"
      ]
    },
    {
      "cell_type": "code",
      "execution_count": 25,
      "metadata": {
        "colab": {
          "base_uri": "https://localhost:8080/"
        },
        "id": "d-Mny76uzSPu",
        "outputId": "a03c3c36-32ab-4865-fa98-268221f1a161"
      },
      "outputs": [
        {
          "name": "stdout",
          "output_type": "stream",
          "text": [
            "No highly correlated numerical features detected.\n"
          ]
        }
      ],
      "source": [
        "answer = []\n",
        "corr_ = correlation_matrix.copy()\n",
        "for i in corr_.columns:\n",
        "    for j in corr_.index:\n",
        "        if i != j and abs(corr_[i][j]) > 0.75:\n",
        "            # Check if indices are in ascending order\n",
        "            if i < j:\n",
        "                answer.append(f\"The high correlation is between {i} and {j} of {round(corr_[i][j],2)}\")\n",
        "            else:\n",
        "                # Skip if indices are not in ascending order to avoid duplicates\n",
        "                continue\n",
        "        else:\n",
        "            answer.append(\"No highly correlated numerical features detected.\")\n",
        "\n",
        "if all(val == answer[0] for val in answer):\n",
        "    print(answer[0])\n",
        "else:\n",
        "    for val in set(answer):\n",
        "        if val != \"No highly correlated numerical features detected.\":\n",
        "            print(val)"
      ]
    },
    {
      "cell_type": "markdown",
      "metadata": {},
      "source": [
        "Checking p-values if high correlation spotted:\n",
        " \n",
        "- p-value < 0.05 → Significant (keep the feature if comparing to target, eliminate - if feature to feature)\n",
        "\n",
        "- p-value > 0.05 → Not significant (feature likely doesn’t matter)"
      ]
    },
    {
      "cell_type": "code",
      "execution_count": 26,
      "metadata": {
        "id": "lvMxPt92-Ldt"
      },
      "outputs": [],
      "source": [
        "import scipy.stats as stats\n",
        "p_value_matrix = pd.DataFrame(index=df_num.columns, columns=df_num.columns)\n",
        "\n",
        "# Calculate p-values for each pair of features\n",
        "for i in range(len(normalized_df.columns)):\n",
        "    for j in range(i, len(normalized_df.columns)):\n",
        "        feature1 = normalized_df.columns[i]\n",
        "        feature2 = normalized_df.columns[j]\n",
        "        if feature1 != feature2:\n",
        "            # Calculate the correlation and p-value\n",
        "            r, p_value = stats.pearsonr(normalized_df[feature1], normalized_df[feature2])\n",
        "            p_value_matrix.loc[feature1, feature2] = p_value\n",
        "            p_value_matrix.loc[feature2, feature1] = p_value  \n",
        "        else:\n",
        "            # Diagonal elements (self-correlation) are always 0\n",
        "            p_value_matrix.loc[feature1, feature2] = np.nan"
      ]
    },
    {
      "cell_type": "code",
      "execution_count": 27,
      "metadata": {},
      "outputs": [
        {
          "data": {
            "text/html": [
              "<div>\n",
              "<style scoped>\n",
              "    .dataframe tbody tr th:only-of-type {\n",
              "        vertical-align: middle;\n",
              "    }\n",
              "\n",
              "    .dataframe tbody tr th {\n",
              "        vertical-align: top;\n",
              "    }\n",
              "\n",
              "    .dataframe thead th {\n",
              "        text-align: right;\n",
              "    }\n",
              "</style>\n",
              "<table border=\"1\" class=\"dataframe\">\n",
              "  <thead>\n",
              "    <tr style=\"text-align: right;\">\n",
              "      <th></th>\n",
              "      <th>Attended_Event</th>\n",
              "      <th>Times_Contacted</th>\n",
              "      <th>Days_to_Respond</th>\n",
              "      <th>Lead_Acquired</th>\n",
              "      <th>Total_Campaign_Cost</th>\n",
              "    </tr>\n",
              "  </thead>\n",
              "  <tbody>\n",
              "    <tr>\n",
              "      <th>Attended_Event</th>\n",
              "      <td>NaN</td>\n",
              "      <td>0.041079</td>\n",
              "      <td>0.112422</td>\n",
              "      <td>0.184775</td>\n",
              "      <td>0.514687</td>\n",
              "    </tr>\n",
              "    <tr>\n",
              "      <th>Times_Contacted</th>\n",
              "      <td>0.041079</td>\n",
              "      <td>NaN</td>\n",
              "      <td>0.050071</td>\n",
              "      <td>0.362245</td>\n",
              "      <td>0.128842</td>\n",
              "    </tr>\n",
              "    <tr>\n",
              "      <th>Days_to_Respond</th>\n",
              "      <td>0.112422</td>\n",
              "      <td>0.050071</td>\n",
              "      <td>NaN</td>\n",
              "      <td>0.0</td>\n",
              "      <td>0.0</td>\n",
              "    </tr>\n",
              "    <tr>\n",
              "      <th>Lead_Acquired</th>\n",
              "      <td>0.184775</td>\n",
              "      <td>0.362245</td>\n",
              "      <td>0.0</td>\n",
              "      <td>NaN</td>\n",
              "      <td>0.0</td>\n",
              "    </tr>\n",
              "    <tr>\n",
              "      <th>Total_Campaign_Cost</th>\n",
              "      <td>0.514687</td>\n",
              "      <td>0.128842</td>\n",
              "      <td>0.0</td>\n",
              "      <td>0.0</td>\n",
              "      <td>NaN</td>\n",
              "    </tr>\n",
              "  </tbody>\n",
              "</table>\n",
              "</div>"
            ],
            "text/plain": [
              "                    Attended_Event Times_Contacted Days_to_Respond  \\\n",
              "Attended_Event                 NaN        0.041079        0.112422   \n",
              "Times_Contacted           0.041079             NaN        0.050071   \n",
              "Days_to_Respond           0.112422        0.050071             NaN   \n",
              "Lead_Acquired             0.184775        0.362245             0.0   \n",
              "Total_Campaign_Cost       0.514687        0.128842             0.0   \n",
              "\n",
              "                    Lead_Acquired Total_Campaign_Cost  \n",
              "Attended_Event           0.184775            0.514687  \n",
              "Times_Contacted          0.362245            0.128842  \n",
              "Days_to_Respond               0.0                 0.0  \n",
              "Lead_Acquired                 NaN                 0.0  \n",
              "Total_Campaign_Cost           0.0                 NaN  "
            ]
          },
          "execution_count": 27,
          "metadata": {},
          "output_type": "execute_result"
        }
      ],
      "source": [
        "p_value_matrix"
      ]
    },
    {
      "cell_type": "code",
      "execution_count": 28,
      "metadata": {
        "colab": {
          "base_uri": "https://localhost:8080/",
          "height": 269
        },
        "id": "58rf4muH-N4S",
        "outputId": "0a3bcd5e-5f09-409c-8b57-8903ecb13a71"
      },
      "outputs": [
        {
          "data": {
            "text/html": [
              "<div>\n",
              "<style scoped>\n",
              "    .dataframe tbody tr th:only-of-type {\n",
              "        vertical-align: middle;\n",
              "    }\n",
              "\n",
              "    .dataframe tbody tr th {\n",
              "        vertical-align: top;\n",
              "    }\n",
              "\n",
              "    .dataframe thead th {\n",
              "        text-align: right;\n",
              "    }\n",
              "</style>\n",
              "<table border=\"1\" class=\"dataframe\">\n",
              "  <thead>\n",
              "    <tr style=\"text-align: right;\">\n",
              "      <th></th>\n",
              "      <th>Feature1</th>\n",
              "      <th>Feature2</th>\n",
              "      <th>Correlation</th>\n",
              "      <th>P-Value</th>\n",
              "    </tr>\n",
              "  </thead>\n",
              "  <tbody>\n",
              "  </tbody>\n",
              "</table>\n",
              "</div>"
            ],
            "text/plain": [
              "Empty DataFrame\n",
              "Columns: [Feature1, Feature2, Correlation, P-Value]\n",
              "Index: []"
            ]
          },
          "execution_count": 28,
          "metadata": {},
          "output_type": "execute_result"
        }
      ],
      "source": [
        "significant_correlations = []\n",
        "numerical_features = df_num.columns\n",
        "for feature1 in numerical_features:\n",
        "    for feature2 in numerical_features:\n",
        "        if feature1 != feature2 and p_value_matrix.loc[feature1, feature2] < 0.05:\n",
        "            significant_correlations.append({\n",
        "                'Feature1': feature1,\n",
        "                'Feature2': feature2,\n",
        "                'Correlation': correlation_matrix.loc[feature1, feature2],\n",
        "                'P-Value': p_value_matrix.loc[feature1, feature2]\n",
        "            })\n",
        "\n",
        "significant_correlations_df = pd.DataFrame(significant_correlations)\n",
        "filtered_correlations = significant_correlations_df[significant_correlations_df[\"Feature1\"] < significant_correlations_df[\"Feature2\"]].loc[significant_correlations_df[\"Correlation\"]>0.75].sort_values(by = \"Correlation\")\n",
        "filtered_correlations"
      ]
    },
    {
      "cell_type": "markdown",
      "metadata": {
        "id": "-r4p9Gi5BcwS"
      },
      "source": [
        "<font color=\"yellow\">-Let's check for high correlation and p-test in categorical features:</font>"
      ]
    },
    {
      "cell_type": "code",
      "execution_count": 29,
      "metadata": {
        "id": "bENPN5XBBksQ"
      },
      "outputs": [],
      "source": [
        "import pandas as pd\n",
        "import itertools\n",
        "import numpy as np\n",
        "import scipy.stats as stats\n",
        "\n",
        "categorical_features = df_cat.columns\n",
        "cramer_v_matrix = pd.DataFrame(index=categorical_features, columns=categorical_features)\n",
        "p_value_matrix_cat = pd.DataFrame(index=categorical_features, columns=categorical_features)\n",
        "\n",
        "# Calculate Cramer's V and p-values for each pair of categorical features\n",
        "for feature1, feature2 in itertools.combinations(categorical_features, 2):\n",
        "    contingency_table = pd.crosstab(df_cat[feature1], df_cat[feature2])\n",
        "    chi2, p_value, _, _ = stats.chi2_contingency(contingency_table)\n",
        "\n",
        "    n = contingency_table.sum().sum()\n",
        "    min_dim = min(contingency_table.shape) - 1\n",
        "    cramers_v = np.sqrt(chi2 / (n * min_dim))\n",
        "\n",
        "    cramer_v_matrix.loc[feature1, feature2] = cramers_v\n",
        "    cramer_v_matrix.loc[feature2, feature1] = cramers_v\n",
        "    p_value_matrix_cat.loc[feature1, feature2] = p_value\n",
        "    p_value_matrix_cat.loc[feature2, feature1] = p_value"
      ]
    },
    {
      "cell_type": "code",
      "execution_count": 30,
      "metadata": {
        "colab": {
          "base_uri": "https://localhost:8080/"
        },
        "id": "5upYm_J2BrC3",
        "outputId": "8b189ed8-c804-4c8e-ac00-918b26c0d039"
      },
      "outputs": [
        {
          "name": "stdout",
          "output_type": "stream",
          "text": [
            "No highly correlated categorical features detected.\n"
          ]
        }
      ],
      "source": [
        "answer = []\n",
        "\n",
        "for i in cramer_v_matrix.columns:\n",
        "    for j in cramer_v_matrix.index:\n",
        "        if i != j and abs(cramer_v_matrix[i][j]) > 0.75:\n",
        "            # Check if indices are in ascending order\n",
        "            if i < j:\n",
        "                answer.append(f\"The high correlation is between {i} and {j} of {round(cramer_v_matrix[i][j], 1)}\")\n",
        "            else:\n",
        "                # Skip if indices are not in ascending order to avoid duplicates\n",
        "                continue\n",
        "        else:\n",
        "            answer.append(\"No highly correlated categorical features detected.\")\n",
        "\n",
        "# Print the results\n",
        "if all(val == answer[0] for val in answer):\n",
        "    print(answer[0])\n",
        "else:\n",
        "    for val in set(answer):\n",
        "        if val != \"No highly correlated categorical features detected.\":\n",
        "            print(val)"
      ]
    },
    {
      "cell_type": "code",
      "execution_count": 31,
      "metadata": {
        "id": "TFm_6OnCCn7N"
      },
      "outputs": [
        {
          "data": {
            "text/html": [
              "<div>\n",
              "<style scoped>\n",
              "    .dataframe tbody tr th:only-of-type {\n",
              "        vertical-align: middle;\n",
              "    }\n",
              "\n",
              "    .dataframe tbody tr th {\n",
              "        vertical-align: top;\n",
              "    }\n",
              "\n",
              "    .dataframe thead th {\n",
              "        text-align: right;\n",
              "    }\n",
              "</style>\n",
              "<table border=\"1\" class=\"dataframe\">\n",
              "  <thead>\n",
              "    <tr style=\"text-align: right;\">\n",
              "      <th></th>\n",
              "      <th>Feature1</th>\n",
              "      <th>Feature2</th>\n",
              "      <th>Correlation</th>\n",
              "      <th>P-Value</th>\n",
              "    </tr>\n",
              "  </thead>\n",
              "  <tbody>\n",
              "  </tbody>\n",
              "</table>\n",
              "</div>"
            ],
            "text/plain": [
              "Empty DataFrame\n",
              "Columns: [Feature1, Feature2, Correlation, P-Value]\n",
              "Index: []"
            ]
          },
          "execution_count": 31,
          "metadata": {},
          "output_type": "execute_result"
        }
      ],
      "source": [
        "significant_correlations = []\n",
        "categorical_features = df_cat.columns\n",
        "for feature1 in categorical_features:\n",
        "    for feature2 in categorical_features:\n",
        "        if feature1 != feature2 and p_value_matrix_cat.loc[feature1, feature2] < 0.05:\n",
        "            significant_correlations.append({\n",
        "                'Feature1': feature1,\n",
        "                'Feature2': feature2,\n",
        "                'Correlation': cramer_v_matrix.loc[feature1, feature2],\n",
        "                'P-Value': p_value_matrix_cat.loc[feature1, feature2]\n",
        "            })\n",
        "\n",
        "significant_correlations_df = pd.DataFrame(significant_correlations)\n",
        "filtered_correlations = significant_correlations_df[significant_correlations_df[\"Feature1\"] < significant_correlations_df[\"Feature2\"]].loc[significant_correlations_df[\"Correlation\"]>0.75].sort_values(by = \"Correlation\")\n",
        "filtered_correlations"
      ]
    },
    {
      "cell_type": "code",
      "execution_count": 32,
      "metadata": {
        "colab": {
          "base_uri": "https://localhost:8080/"
        },
        "id": "kj_WeoaDZnuh",
        "outputId": "945eeb1b-91f7-41fa-d057-36ead3692366"
      },
      "outputs": [
        {
          "name": "stdout",
          "output_type": "stream",
          "text": [
            "Feature: Lead_Type, p-value: 0.023529633002748872\n",
            "Feature: Marketing_Campaign, p-value: 0.6401568867730993\n",
            "Feature: Campaign_Type, p-value: 8.913869979119313e-13\n",
            "Feature: Engagement_Level, p-value: 2.504008050842918e-40\n",
            "Feature: Lead_State, p-value: 0.5483842535826777\n"
          ]
        }
      ],
      "source": [
        "from scipy.stats import chi2_contingency\n",
        "\n",
        "# Apply chi-square test for each categorical feature\n",
        "for col in df_s.select_dtypes(include='object').columns:\n",
        "    contingency_table = pd.crosstab(df_s[col], df_s['Lead_Acquired'])\n",
        "    chi2, p, dof, expected = chi2_contingency(contingency_table)\n",
        "    print(f'Feature: {col}, p-value: {p}')"
      ]
    },
    {
      "cell_type": "code",
      "execution_count": 34,
      "metadata": {
        "id": "reXaKSCWbJsk"
      },
      "outputs": [],
      "source": [
        "import pandas as pd\n",
        "import numpy as np\n",
        "import scipy.stats as stats\n",
        "\n",
        "categorical_features = df_cat.columns\n",
        "class_column = \"Lead_Acquired\" \n",
        "p_value_matrix_cat = pd.DataFrame(index=categorical_features, columns=[class_column])\n",
        "cramer_v_matrix = pd.DataFrame(index=categorical_features, columns=[class_column])\n",
        "\n",
        "# Calculate Chi-square p-values and Cramer's V for each categorical feature with respect to the class column\n",
        "for feature in categorical_features:\n",
        "    if feature != class_column:\n",
        "        contingency_table = pd.crosstab(df_cat[feature], df_s[class_column])\n",
        "\n",
        "        chi2, p_value, _, _ = stats.chi2_contingency(contingency_table)\n",
        "        n = contingency_table.sum().sum()\n",
        "        min_dim = min(contingency_table.shape) - 1\n",
        "        cramers_v = np.sqrt(chi2 / (n * min_dim))\n",
        "\n",
        "        p_value_matrix_cat.loc[feature, class_column] = p_value\n",
        "        cramer_v_matrix.loc[feature, class_column] = cramers_v"
      ]
    },
    {
      "cell_type": "code",
      "execution_count": 35,
      "metadata": {
        "colab": {
          "base_uri": "https://localhost:8080/",
          "height": 269
        },
        "id": "dHRqX9QKbMuu",
        "outputId": "59ab1313-a10e-4c60-f499-8478e2d1d465"
      },
      "outputs": [
        {
          "data": {
            "text/html": [
              "<div>\n",
              "<style scoped>\n",
              "    .dataframe tbody tr th:only-of-type {\n",
              "        vertical-align: middle;\n",
              "    }\n",
              "\n",
              "    .dataframe tbody tr th {\n",
              "        vertical-align: top;\n",
              "    }\n",
              "\n",
              "    .dataframe thead th {\n",
              "        text-align: right;\n",
              "    }\n",
              "</style>\n",
              "<table border=\"1\" class=\"dataframe\">\n",
              "  <thead>\n",
              "    <tr style=\"text-align: right;\">\n",
              "      <th></th>\n",
              "      <th>Lead_Acquired</th>\n",
              "    </tr>\n",
              "  </thead>\n",
              "  <tbody>\n",
              "    <tr>\n",
              "      <th>Marketing_Campaign</th>\n",
              "      <td>0.01589</td>\n",
              "    </tr>\n",
              "    <tr>\n",
              "      <th>Lead_State</th>\n",
              "      <td>0.028034</td>\n",
              "    </tr>\n",
              "    <tr>\n",
              "      <th>Engagement_Level</th>\n",
              "      <td>0.136807</td>\n",
              "    </tr>\n",
              "    <tr>\n",
              "      <th>Campaign_Type</th>\n",
              "      <td>0.074493</td>\n",
              "    </tr>\n",
              "    <tr>\n",
              "      <th>Lead_Type</th>\n",
              "      <td>0.027384</td>\n",
              "    </tr>\n",
              "  </tbody>\n",
              "</table>\n",
              "</div>"
            ],
            "text/plain": [
              "                   Lead_Acquired\n",
              "Marketing_Campaign       0.01589\n",
              "Lead_State              0.028034\n",
              "Engagement_Level        0.136807\n",
              "Campaign_Type           0.074493\n",
              "Lead_Type               0.027384"
            ]
          },
          "execution_count": 35,
          "metadata": {},
          "output_type": "execute_result"
        }
      ],
      "source": [
        "cramer_v_matrix"
      ]
    },
    {
      "cell_type": "markdown",
      "metadata": {
        "id": "ajEXUeAntyQM"
      },
      "source": [
        "<font color=\"yellow\">-Let's check p-test in categorical over numerical features:</font>"
      ]
    },
    {
      "cell_type": "code",
      "execution_count": 36,
      "metadata": {
        "colab": {
          "base_uri": "https://localhost:8080/",
          "height": 376
        },
        "collapsed": true,
        "id": "xcARCKMxtzUu",
        "outputId": "a0896091-12af-4903-b697-0a07674da85c"
      },
      "outputs": [
        {
          "data": {
            "text/html": [
              "<div>\n",
              "<style scoped>\n",
              "    .dataframe tbody tr th:only-of-type {\n",
              "        vertical-align: middle;\n",
              "    }\n",
              "\n",
              "    .dataframe tbody tr th {\n",
              "        vertical-align: top;\n",
              "    }\n",
              "\n",
              "    .dataframe thead th {\n",
              "        text-align: right;\n",
              "    }\n",
              "</style>\n",
              "<table border=\"1\" class=\"dataframe\">\n",
              "  <thead>\n",
              "    <tr style=\"text-align: right;\">\n",
              "      <th></th>\n",
              "      <th>Attended_Event</th>\n",
              "      <th>Times_Contacted</th>\n",
              "      <th>Days_to_Respond</th>\n",
              "      <th>Lead_Acquired</th>\n",
              "      <th>Total_Campaign_Cost</th>\n",
              "    </tr>\n",
              "  </thead>\n",
              "  <tbody>\n",
              "    <tr>\n",
              "      <th>Marketing_Campaign</th>\n",
              "      <td>0.218059</td>\n",
              "      <td>0.771601</td>\n",
              "      <td>0.449932</td>\n",
              "      <td>0.64028</td>\n",
              "      <td>0.089853</td>\n",
              "    </tr>\n",
              "    <tr>\n",
              "      <th>Lead_State</th>\n",
              "      <td>0.100794</td>\n",
              "      <td>0.689832</td>\n",
              "      <td>0.38333</td>\n",
              "      <td>0.54859</td>\n",
              "      <td>0.035107</td>\n",
              "    </tr>\n",
              "    <tr>\n",
              "      <th>Engagement_Level</th>\n",
              "      <td>0.247711</td>\n",
              "      <td>0.37987</td>\n",
              "      <td>0.0</td>\n",
              "      <td>0.0</td>\n",
              "      <td>0.0</td>\n",
              "    </tr>\n",
              "    <tr>\n",
              "      <th>Campaign_Type</th>\n",
              "      <td>0.611421</td>\n",
              "      <td>0.377294</td>\n",
              "      <td>0.000005</td>\n",
              "      <td>0.0</td>\n",
              "      <td>0.0</td>\n",
              "    </tr>\n",
              "    <tr>\n",
              "      <th>Lead_Type</th>\n",
              "      <td>0.955592</td>\n",
              "      <td>0.916536</td>\n",
              "      <td>0.745722</td>\n",
              "      <td>0.023523</td>\n",
              "      <td>0.078056</td>\n",
              "    </tr>\n",
              "  </tbody>\n",
              "</table>\n",
              "</div>"
            ],
            "text/plain": [
              "                   Attended_Event Times_Contacted Days_to_Respond  \\\n",
              "Marketing_Campaign       0.218059        0.771601        0.449932   \n",
              "Lead_State               0.100794        0.689832         0.38333   \n",
              "Engagement_Level         0.247711         0.37987             0.0   \n",
              "Campaign_Type            0.611421        0.377294        0.000005   \n",
              "Lead_Type                0.955592        0.916536        0.745722   \n",
              "\n",
              "                   Lead_Acquired Total_Campaign_Cost  \n",
              "Marketing_Campaign       0.64028            0.089853  \n",
              "Lead_State               0.54859            0.035107  \n",
              "Engagement_Level             0.0                 0.0  \n",
              "Campaign_Type                0.0                 0.0  \n",
              "Lead_Type               0.023523            0.078056  "
            ]
          },
          "execution_count": 36,
          "metadata": {},
          "output_type": "execute_result"
        }
      ],
      "source": [
        "numerical_features = df_num.columns\n",
        "categorical_features = df_cat.columns\n",
        "p_value_matrix_num_cat = pd.DataFrame(index=categorical_features, columns=numerical_features)\n",
        "df1 = pd.concat([df_num, df_cat], axis = 1)\n",
        "\n",
        "for cat_feature in categorical_features:\n",
        "    for num_feature in numerical_features:\n",
        "        groups = [group[num_feature].values for name, group in df1.groupby(cat_feature)]\n",
        "        f_statistic, p_value = stats.f_oneway(*groups)\n",
        "        p_value_matrix_num_cat.loc[cat_feature, num_feature] = p_value\n",
        "\n",
        "p_value_matrix_num_cat"
      ]
    },
    {
      "cell_type": "code",
      "execution_count": 37,
      "metadata": {
        "colab": {
          "base_uri": "https://localhost:8080/",
          "height": 89
        },
        "id": "lbthn3giuHU-",
        "outputId": "9b218077-f8dd-4965-d19c-a07274b42b3a"
      },
      "outputs": [
        {
          "data": {
            "text/html": [
              "<div>\n",
              "<style scoped>\n",
              "    .dataframe tbody tr th:only-of-type {\n",
              "        vertical-align: middle;\n",
              "    }\n",
              "\n",
              "    .dataframe tbody tr th {\n",
              "        vertical-align: top;\n",
              "    }\n",
              "\n",
              "    .dataframe thead th {\n",
              "        text-align: right;\n",
              "    }\n",
              "</style>\n",
              "<table border=\"1\" class=\"dataframe\">\n",
              "  <thead>\n",
              "    <tr style=\"text-align: right;\">\n",
              "      <th></th>\n",
              "      <th>Feature1</th>\n",
              "      <th>Feature2</th>\n",
              "      <th>P-Value</th>\n",
              "    </tr>\n",
              "  </thead>\n",
              "  <tbody>\n",
              "    <tr>\n",
              "      <th>0</th>\n",
              "      <td>Lead_State</td>\n",
              "      <td>Total_Campaign_Cost</td>\n",
              "      <td>3.510672e-02</td>\n",
              "    </tr>\n",
              "    <tr>\n",
              "      <th>1</th>\n",
              "      <td>Engagement_Level</td>\n",
              "      <td>Days_to_Respond</td>\n",
              "      <td>1.404699e-16</td>\n",
              "    </tr>\n",
              "    <tr>\n",
              "      <th>2</th>\n",
              "      <td>Engagement_Level</td>\n",
              "      <td>Lead_Acquired</td>\n",
              "      <td>1.071044e-40</td>\n",
              "    </tr>\n",
              "    <tr>\n",
              "      <th>3</th>\n",
              "      <td>Engagement_Level</td>\n",
              "      <td>Total_Campaign_Cost</td>\n",
              "      <td>2.517168e-20</td>\n",
              "    </tr>\n",
              "    <tr>\n",
              "      <th>4</th>\n",
              "      <td>Campaign_Type</td>\n",
              "      <td>Days_to_Respond</td>\n",
              "      <td>4.852814e-06</td>\n",
              "    </tr>\n",
              "    <tr>\n",
              "      <th>5</th>\n",
              "      <td>Campaign_Type</td>\n",
              "      <td>Lead_Acquired</td>\n",
              "      <td>8.320193e-13</td>\n",
              "    </tr>\n",
              "    <tr>\n",
              "      <th>6</th>\n",
              "      <td>Campaign_Type</td>\n",
              "      <td>Total_Campaign_Cost</td>\n",
              "      <td>5.495312e-130</td>\n",
              "    </tr>\n",
              "    <tr>\n",
              "      <th>7</th>\n",
              "      <td>Lead_Type</td>\n",
              "      <td>Lead_Acquired</td>\n",
              "      <td>2.352301e-02</td>\n",
              "    </tr>\n",
              "  </tbody>\n",
              "</table>\n",
              "</div>"
            ],
            "text/plain": [
              "           Feature1             Feature2        P-Value\n",
              "0        Lead_State  Total_Campaign_Cost   3.510672e-02\n",
              "1  Engagement_Level      Days_to_Respond   1.404699e-16\n",
              "2  Engagement_Level        Lead_Acquired   1.071044e-40\n",
              "3  Engagement_Level  Total_Campaign_Cost   2.517168e-20\n",
              "4     Campaign_Type      Days_to_Respond   4.852814e-06\n",
              "5     Campaign_Type        Lead_Acquired   8.320193e-13\n",
              "6     Campaign_Type  Total_Campaign_Cost  5.495312e-130\n",
              "7         Lead_Type        Lead_Acquired   2.352301e-02"
            ]
          },
          "execution_count": 37,
          "metadata": {},
          "output_type": "execute_result"
        }
      ],
      "source": [
        "significant_correlations = []\n",
        "categorical_features = df_cat.columns\n",
        "numerical_features = df_num.columns\n",
        "for feature1 in categorical_features:\n",
        "    for feature2 in numerical_features:\n",
        "        if feature1 != feature2 and p_value_matrix_num_cat.loc[feature1, feature2] < 0.05:\n",
        "            significant_correlations.append({\n",
        "                'Feature1': feature1,\n",
        "                'Feature2': feature2,\n",
        "                'P-Value': p_value_matrix_num_cat.loc[feature1, feature2]\n",
        "            })\n",
        "\n",
        "significant_correlations_df = pd.DataFrame(significant_correlations)\n",
        "significant_correlations_df"
      ]
    },
    {
      "cell_type": "markdown",
      "metadata": {
        "id": "A3S1b71zscUN"
      },
      "source": [
        "<font color = 'yellow'>-Let's one-hot-encode our categorical values:\n",
        "-Let's concatenate numerical and categorical features:</font>"
      ]
    },
    {
      "cell_type": "code",
      "execution_count": 38,
      "metadata": {
        "id": "A3U9xY8GsdWG"
      },
      "outputs": [],
      "source": [
        "def proc(*args):\n",
        "  df_num, df_cat = args\n",
        "  df_cat = pd.get_dummies(df_cat)\n",
        "  df_ = pd.concat([df_num, df_cat], axis = 1, join = \"inner\")\n",
        "  return df_"
      ]
    },
    {
      "cell_type": "code",
      "execution_count": 39,
      "metadata": {
        "collapsed": true,
        "id": "zMoCSmtI1yxI"
      },
      "outputs": [],
      "source": [
        "df_ = proc(df_num, df_cat)"
      ]
    },
    {
      "cell_type": "markdown",
      "metadata": {
        "id": "A-cCUKQlvpKB"
      },
      "source": [
        "#<font color=\"lightgreen\"> 2) Building ML:</font>"
      ]
    },
    {
      "cell_type": "code",
      "execution_count": 40,
      "metadata": {
        "colab": {
          "base_uri": "https://localhost:8080/",
          "height": 472
        },
        "id": "sTXu9Shie7_G",
        "outputId": "3984d632-03a6-4d06-c518-97a3f38eb15f"
      },
      "outputs": [
        {
          "data": {
            "image/png": "[encoded data removed]",
            "text/plain": [
              "<Figure size 640x480 with 1 Axes>"
            ]
          },
          "metadata": {},
          "output_type": "display_data"
        }
      ],
      "source": [
        "import pandas as pd\n",
        "import matplotlib.pyplot as plt\n",
        "\n",
        "final_cost = df_['Total_Campaign_Cost'].dropna()\n",
        "\n",
        "plt.hist(final_cost, bins=30, edgecolor = \"#738BA3\", color = \"#89BAEB\")\n",
        "plt.title('Distribution of Final Cost')\n",
        "plt.xlabel('Final Expense Amount')\n",
        "plt.ylabel('Frequency')\n",
        "plt.show()"
      ]
    },
    {
      "cell_type": "code",
      "execution_count": 41,
      "metadata": {
        "colab": {
          "base_uri": "https://localhost:8080/",
          "height": 564
        },
        "id": "6rF_ykJCtvto",
        "outputId": "80387a1e-8182-46ab-b7ce-3ed0241db82c"
      },
      "outputs": [
        {
          "data": {
            "image/png": "[encoded data removed]",
            "text/plain": [
              "<Figure size 1000x600 with 1 Axes>"
            ]
          },
          "metadata": {},
          "output_type": "display_data"
        }
      ],
      "source": [
        "import seaborn as sns\n",
        "mean = df_['Total_Campaign_Cost'].mean()\n",
        "std = df_['Total_Campaign_Cost'].std()\n",
        "\n",
        "plt.figure(figsize=(10, 6))\n",
        "sns.histplot((df_['Total_Campaign_Cost'] - mean) / std, kde=True, bins=30, edgecolor = \"#738BA3\", color = \"#89BAEB\")\n",
        "plt.axvline(0, color='green', linestyle='--', label='Mean (0)')\n",
        "plt.axvline(3, color='red', linestyle='--', label='3 Std Dev')\n",
        "plt.axvline(-3, color='red', linestyle='--')\n",
        "plt.title('Final Expense Amount (Standardized)')\n",
        "plt.xlabel('Standard Deviations from Mean')\n",
        "plt.ylabel('Frequency')\n",
        "plt.legend()\n",
        "plt.show()"
      ]
    },
    {
      "cell_type": "markdown",
      "metadata": {
        "id": "8H7dYfmqvxdn"
      },
      "source": [
        "<font color=\"yellow\">-Let's normalize our data:</font>"
      ]
    },
    {
      "cell_type": "code",
      "execution_count": 43,
      "metadata": {
        "id": "fmg2uemAfsxO"
      },
      "outputs": [],
      "source": [
        "df_shuffled = df_.copy()\n",
        "scaler = StandardScaler()\n",
        "\n",
        "y = df_shuffled[\"Lead_Acquired\"]\n",
        "X = df_shuffled.drop(columns = \"Lead_Acquired\")\n",
        "X_train, X_test, y_train, y_test = train_test_split(X, y, test_size = 0.2, random_state = 7)\n",
        "\n",
        "num_features_count = len(X.select_dtypes(include = [\"float\", \"int\"]).columns)\n",
        "X_train_sc = scaler.fit_transform(X_train.iloc[:, 0:num_features_count])\n",
        "X_test_sc = scaler.transform(X_test.iloc[:, 0:num_features_count])\n",
        "X_train = np.hstack((X_train_sc, X_train.iloc[:, num_features_count:]))\n",
        "X_test = np.hstack((X_test_sc, X_test.iloc[:, num_features_count:]))"
      ]
    },
    {
      "cell_type": "markdown",
      "metadata": {
        "id": "uxUSJHpzy_1z"
      },
      "source": [
        "<font color=\"lightgreen\">-Gaussian NB Models</font>"
      ]
    },
    {
      "cell_type": "code",
      "execution_count": 46,
      "metadata": {},
      "outputs": [
        {
          "name": "stdout",
          "output_type": "stream",
          "text": [
            "Accuracy: 0.88\n",
            "\n",
            "Classification Report:\n",
            "              precision    recall  f1-score   support\n",
            "\n",
            "           0       0.86      0.91      0.88      1028\n",
            "           1       0.90      0.85      0.87       972\n",
            "\n",
            "    accuracy                           0.88      2000\n",
            "   macro avg       0.88      0.88      0.88      2000\n",
            "weighted avg       0.88      0.88      0.88      2000\n",
            "\n",
            "\n",
            "Confusion Matrix:\n",
            "     0    1\n",
            "0  935   93\n",
            "1  150  822\n"
          ]
        }
      ],
      "source": [
        "gnb = GaussianNB()\n",
        "gnb.fit(X_train, y_train)\n",
        "y_pred = gnb.predict(X_test)\n",
        "\n",
        "accuracy = accuracy_score(y_test, y_pred)\n",
        "print(f'Accuracy: {accuracy:.2f}')\n",
        "print(\"\\nClassification Report:\")\n",
        "print(classification_report(y_test, y_pred))\n",
        "print(\"\\nConfusion Matrix:\")\n",
        "print(pd.DataFrame(confusion_matrix(y_test, y_pred)))"
      ]
    },
    {
      "cell_type": "markdown",
      "metadata": {
        "id": "QkWqkZWLv45Z"
      },
      "source": [
        "<font color=\"lightgreen\">-KNN</font>"
      ]
    },
    {
      "cell_type": "code",
      "execution_count": 47,
      "metadata": {},
      "outputs": [
        {
          "name": "stdout",
          "output_type": "stream",
          "text": [
            "The accuracy score of KNN model is 0.88\n",
            "\n",
            "              precision    recall  f1-score   support\n",
            "\n",
            "           0       0.86      0.90      0.88      1028\n",
            "           1       0.89      0.85      0.87       972\n",
            "\n",
            "    accuracy                           0.88      2000\n",
            "   macro avg       0.88      0.87      0.88      2000\n",
            "weighted avg       0.88      0.88      0.88      2000\n",
            "\n",
            "\n",
            "Confusion Matrix:\n",
            "     0    1\n",
            "0  924  104\n",
            "1  145  827\n"
          ]
        }
      ],
      "source": [
        "knn = KNeighborsClassifier()\n",
        "knn.fit(X_train, y_train)\n",
        "y_pred_knn = knn.predict(X_test)\n",
        "\n",
        "accuracy = accuracy_score(y_test, y_pred_knn)\n",
        "print(f'The accuracy score of KNN model is {accuracy:0.2f}')\n",
        "print()\n",
        "print(classification_report(y_test, y_pred_knn))\n",
        "print(\"\\nConfusion Matrix:\")\n",
        "print(pd.DataFrame(confusion_matrix(y_test, y_pred_knn)))"
      ]
    },
    {
      "cell_type": "markdown",
      "metadata": {
        "id": "fc33gtcWwGHR"
      },
      "source": [
        "<font color=\"lightgreen\">-SVM</font>"
      ]
    },
    {
      "cell_type": "markdown",
      "metadata": {
        "id": "phBoV2nLlxW9"
      },
      "source": [
        "<font color=\"lightgreen\">-Different types of SVM: 1. Linear</font>"
      ]
    },
    {
      "cell_type": "code",
      "execution_count": 48,
      "metadata": {},
      "outputs": [
        {
          "name": "stdout",
          "output_type": "stream",
          "text": [
            "Linear Kernel SVM\n",
            "Accuracy: 0.90\n",
            "              precision    recall  f1-score   support\n",
            "\n",
            "           0       0.89      0.92      0.90      1028\n",
            "           1       0.91      0.88      0.89       972\n",
            "\n",
            "    accuracy                           0.90      2000\n",
            "   macro avg       0.90      0.90      0.90      2000\n",
            "weighted avg       0.90      0.90      0.90      2000\n",
            "\n",
            "\n",
            "\n",
            "Confusion Matrix:\n",
            "     0    1\n",
            "0  941   87\n",
            "1  119  853\n"
          ]
        }
      ],
      "source": [
        "# Linear Kernel\n",
        "linear_svm = svm.SVC(kernel='linear')\n",
        "linear_svm.fit(X_train, y_train)\n",
        "y_pred_linear = linear_svm.predict(X_test)\n",
        "\n",
        "print(\"Linear Kernel SVM\")\n",
        "print(f'Accuracy: {accuracy_score(y_test, y_pred_linear):.2f}')\n",
        "print(classification_report(y_test, y_pred_linear))\n",
        "print()\n",
        "print(\"\\nConfusion Matrix:\")\n",
        "print(pd.DataFrame(confusion_matrix(y_test, y_pred_linear)))"
      ]
    },
    {
      "cell_type": "markdown",
      "metadata": {
        "id": "EZd3CR8plwOU"
      },
      "source": [
        "<font color=\"lightgreen\">-Different types of SVM: 2. Polynomial </font>"
      ]
    },
    {
      "cell_type": "code",
      "execution_count": 49,
      "metadata": {},
      "outputs": [
        {
          "name": "stdout",
          "output_type": "stream",
          "text": [
            "Polynomial Kernel SVM\n",
            "Accuracy: 0.90\n",
            "              precision    recall  f1-score   support\n",
            "\n",
            "           0       0.89      0.92      0.90      1028\n",
            "           1       0.91      0.87      0.89       972\n",
            "\n",
            "    accuracy                           0.90      2000\n",
            "   macro avg       0.90      0.90      0.90      2000\n",
            "weighted avg       0.90      0.90      0.90      2000\n",
            "\n",
            "\n",
            "\n",
            "Confusion Matrix:\n",
            "     0    1\n",
            "0  944   84\n",
            "1  122  850\n"
          ]
        }
      ],
      "source": [
        "# Polynomial Kernel\n",
        "poly_svm = svm.SVC(kernel='poly', degree=3)  \n",
        "poly_svm.fit(X_train, y_train)\n",
        "y_pred_poly = poly_svm.predict(X_test)\n",
        "\n",
        "print(\"Polynomial Kernel SVM\")\n",
        "print(f'Accuracy: {accuracy_score(y_test, y_pred_poly):.2f}')\n",
        "print(classification_report(y_test, y_pred_poly))\n",
        "print()\n",
        "print(\"\\nConfusion Matrix:\")\n",
        "print(pd.DataFrame(confusion_matrix(y_test, y_pred_poly)))"
      ]
    },
    {
      "cell_type": "markdown",
      "metadata": {
        "id": "fggzDZ9blvdg"
      },
      "source": [
        "<font color=\"lightgreen\">-Different types of SVM: 3. RBF Kernel</font>"
      ]
    },
    {
      "cell_type": "code",
      "execution_count": 50,
      "metadata": {},
      "outputs": [
        {
          "name": "stdout",
          "output_type": "stream",
          "text": [
            "RBF Kernel SVM\n",
            "Accuracy: 0.90\n",
            "              precision    recall  f1-score   support\n",
            "\n",
            "           0       0.89      0.92      0.91      1028\n",
            "           1       0.92      0.88      0.90       972\n",
            "\n",
            "    accuracy                           0.90      2000\n",
            "   macro avg       0.90      0.90      0.90      2000\n",
            "weighted avg       0.90      0.90      0.90      2000\n",
            "\n",
            "\n",
            "\n",
            "Confusion Matrix:\n",
            "     0    1\n",
            "0  949   79\n",
            "1  119  853\n"
          ]
        }
      ],
      "source": [
        "# RBF Kernel\n",
        "rbf_svm = svm.SVC(kernel='rbf')\n",
        "rbf_svm.fit(X_train, y_train)\n",
        "y_pred_rbf = rbf_svm.predict(X_test)\n",
        "\n",
        "print(\"RBF Kernel SVM\")\n",
        "print(f'Accuracy: {accuracy_score(y_test, y_pred_rbf):.2f}')\n",
        "print(classification_report(y_test, y_pred_rbf))\n",
        "print()\n",
        "print(\"\\nConfusion Matrix:\")\n",
        "print(pd.DataFrame(confusion_matrix(y_test, y_pred_rbf)))"
      ]
    },
    {
      "cell_type": "markdown",
      "metadata": {
        "id": "3XjHg3y4wQss"
      },
      "source": [
        "<font color=\"lightgreen\">-Different types of SVM: 4. Sigmoid Kernel</font>"
      ]
    },
    {
      "cell_type": "code",
      "execution_count": 51,
      "metadata": {},
      "outputs": [
        {
          "name": "stdout",
          "output_type": "stream",
          "text": [
            "Sigmoid Kernel SVM\n",
            "Accuracy: 0.87\n",
            "              precision    recall  f1-score   support\n",
            "\n",
            "           0       0.87      0.88      0.87      1028\n",
            "           1       0.87      0.86      0.86       972\n",
            "\n",
            "    accuracy                           0.87      2000\n",
            "   macro avg       0.87      0.87      0.87      2000\n",
            "weighted avg       0.87      0.87      0.87      2000\n",
            "\n",
            "\n",
            "\n",
            "Confusion Matrix:\n",
            "     0    1\n",
            "0  903  125\n",
            "1  138  834\n"
          ]
        }
      ],
      "source": [
        "# Sigmoid Kernel\n",
        "sigmoid_svm = svm.SVC(kernel='sigmoid')\n",
        "sigmoid_svm.fit(X_train, y_train)\n",
        "y_pred_sigmoid = sigmoid_svm.predict(X_test)\n",
        "\n",
        "print(\"Sigmoid Kernel SVM\")\n",
        "print(f'Accuracy: {accuracy_score(y_test, y_pred_sigmoid):.2f}')\n",
        "print(classification_report(y_test, y_pred_sigmoid))\n",
        "print()\n",
        "print(\"\\nConfusion Matrix:\")\n",
        "print(pd.DataFrame(confusion_matrix(y_test, y_pred_sigmoid)))"
      ]
    },
    {
      "cell_type": "markdown",
      "metadata": {
        "id": "uH-SMIuvwehR"
      },
      "source": [
        "<font color=\"lightgreen\">-LR</font>"
      ]
    },
    {
      "cell_type": "code",
      "execution_count": 52,
      "metadata": {},
      "outputs": [
        {
          "name": "stdout",
          "output_type": "stream",
          "text": [
            "The accuracy score of LR model is 0.89\n",
            "\n",
            "              precision    recall  f1-score   support\n",
            "\n",
            "           0       0.89      0.91      0.90      1028\n",
            "           1       0.90      0.88      0.89       972\n",
            "\n",
            "    accuracy                           0.89      2000\n",
            "   macro avg       0.89      0.89      0.89      2000\n",
            "weighted avg       0.89      0.89      0.89      2000\n",
            "\n",
            "\n",
            "\n",
            "Confusion Matrix:\n",
            "     0    1\n",
            "0  934   94\n",
            "1  119  853\n"
          ]
        }
      ],
      "source": [
        "lr = LogisticRegression(max_iter=1000)\n",
        "lr.fit(X_train, y_train)\n",
        "y_pred_lr = lr.predict(X_test)\n",
        "accuracy = accuracy_score(y_test, y_pred_lr)\n",
        "\n",
        "print(f'The accuracy score of LR model is {accuracy:0.2f}')\n",
        "print()\n",
        "print(classification_report(y_test, y_pred_lr,))\n",
        "print()\n",
        "print(\"\\nConfusion Matrix:\")\n",
        "print(pd.DataFrame(confusion_matrix(y_test, y_pred_lr)))"
      ]
    },
    {
      "cell_type": "markdown",
      "metadata": {
        "id": "NUkOiqvXxV7V"
      },
      "source": [
        "<font color=\"lightgreen\">-LDA</font>"
      ]
    },
    {
      "cell_type": "code",
      "execution_count": 53,
      "metadata": {},
      "outputs": [
        {
          "name": "stdout",
          "output_type": "stream",
          "text": [
            "The accuracy score of LDA model is 0.90\n",
            "\n",
            "              precision    recall  f1-score   support\n",
            "\n",
            "           0       0.87      0.94      0.90      1028\n",
            "           1       0.93      0.85      0.89       972\n",
            "\n",
            "    accuracy                           0.90      2000\n",
            "   macro avg       0.90      0.90      0.90      2000\n",
            "weighted avg       0.90      0.90      0.90      2000\n",
            "\n",
            "\n",
            "\n",
            "Confusion Matrix:\n",
            "     0    1\n",
            "0  963   65\n",
            "1  142  830\n"
          ]
        }
      ],
      "source": [
        "lda_ = LinearDiscriminantAnalysis(solver = \"svd\")  # Try 'svd'71, 'lsqr'71, or 'eigen'none\n",
        "lda_.fit(X_train, y_train)\n",
        "y_pred = lda_.predict(X_test)\n",
        "\n",
        "accuracy = accuracy_score(y_test, y_pred)\n",
        "print(f'The accuracy score of LDA model is {accuracy:0.2f}')\n",
        "print()\n",
        "print(classification_report(y_test, y_pred))\n",
        "print()\n",
        "print(\"\\nConfusion Matrix:\")\n",
        "print(pd.DataFrame(confusion_matrix(y_test, y_pred)))"
      ]
    },
    {
      "cell_type": "markdown",
      "metadata": {
        "id": "GElnGYD9ya1U"
      },
      "source": [
        "<font color=\"lightgreen\">-DT</font>"
      ]
    },
    {
      "cell_type": "code",
      "execution_count": 54,
      "metadata": {},
      "outputs": [
        {
          "name": "stdout",
          "output_type": "stream",
          "text": [
            "The accuracy score of DT model is  0.90\n",
            "\n",
            "              precision    recall  f1-score   support\n",
            "\n",
            "           0       0.90      0.90      0.90      1074\n",
            "           1       0.88      0.89      0.89       926\n",
            "\n",
            "    accuracy                           0.90      2000\n",
            "   macro avg       0.89      0.89      0.89      2000\n",
            "weighted avg       0.90      0.90      0.90      2000\n",
            "\n",
            "\n",
            "Confusion Matrix:\n",
            "     0    1\n",
            "0  967  107\n",
            "1  103  823\n"
          ]
        }
      ],
      "source": [
        "y = df_shuffled[\"Lead_Acquired\"]\n",
        "X = df_shuffled.drop(columns = \"Lead_Acquired\")\n",
        "X_train, X_test, y_train, y_test = train_test_split(X, y, test_size = 0.2, random_state = 42)\n",
        "\n",
        "dt = DecisionTreeClassifier(random_state=7)\n",
        "dt.fit(X_train, y_train)\n",
        "y_pred_dt = dt.predict(X_test)\n",
        "accuracy = accuracy_score(y_test, y_pred_dt)\n",
        "print(f'The accuracy score of DT model is {accuracy: 0.2f}')\n",
        "print()\n",
        "print(classification_report(y_test, y_pred_dt))\n",
        "print(\"\\nConfusion Matrix:\")\n",
        "print(pd.DataFrame(confusion_matrix(y_test, y_pred_dt)))"
      ]
    },
    {
      "cell_type": "markdown",
      "metadata": {
        "id": "nLD2U3hfyniG"
      },
      "source": [
        "<font color=\"lightgreen\">-XGBoost</font>"
      ]
    },
    {
      "cell_type": "code",
      "execution_count": 55,
      "metadata": {},
      "outputs": [
        {
          "name": "stdout",
          "output_type": "stream",
          "text": [
            "The accuracy score of XGBoost model is  0.91\n",
            "\n",
            "              precision    recall  f1-score   support\n",
            "\n",
            "           0       0.91      0.94      0.92      1074\n",
            "           1       0.92      0.89      0.91       926\n",
            "\n",
            "    accuracy                           0.91      2000\n",
            "   macro avg       0.92      0.91      0.91      2000\n",
            "weighted avg       0.91      0.91      0.91      2000\n",
            "\n",
            "\n",
            "\n",
            "Confusion Matrix:\n",
            "      0    1\n",
            "0  1005   69\n",
            "1   102  824\n"
          ]
        }
      ],
      "source": [
        "y = df_shuffled[\"Lead_Acquired\"]\n",
        "X = df_shuffled.drop(columns = \"Lead_Acquired\")\n",
        "X_train, X_test, y_train, y_test = train_test_split(X, y, test_size = 0.2, random_state = 42)\n",
        "dtrain = xgb.DMatrix(X_train, label=y_train)\n",
        "dtest = xgb.DMatrix(X_test, label=y_test)\n",
        "\n",
        "params = {\n",
        "    'objective': 'binary:logistic',\n",
        "    'eval_metric': 'error'\n",
        "}\n",
        "\n",
        "num_rounds = 80\n",
        "bst = xgb.train(params, dtrain, num_rounds)\n",
        "y_pred = bst.predict(dtest)\n",
        "y_pred_binary = [1 if p > 0.5 else 0 for p in y_pred] #checked different thresholds\n",
        "\n",
        "accuracy = accuracy_score(y_test, y_pred_binary)\n",
        "print(f'The accuracy score of XGBoost model is {accuracy: 0.2f}')\n",
        "print()\n",
        "print(classification_report(y_test, y_pred_binary))\n",
        "print()\n",
        "print(\"\\nConfusion Matrix:\")\n",
        "print(pd.DataFrame(confusion_matrix(y_test, y_pred_binary)))"
      ]
    },
    {
      "cell_type": "markdown",
      "metadata": {
        "id": "DOgkB7RKyyTL"
      },
      "source": [
        "<font color=\"lightgreen\">-Random Forest</font>"
      ]
    },
    {
      "cell_type": "code",
      "execution_count": 57,
      "metadata": {},
      "outputs": [
        {
          "name": "stdout",
          "output_type": "stream",
          "text": [
            "The accuracy score of Random Forest model is  0.90\n",
            "\n",
            "              precision    recall  f1-score   support\n",
            "\n",
            "           0       0.88      0.93      0.90       527\n",
            "           1       0.91      0.86      0.89       473\n",
            "\n",
            "    accuracy                           0.90      1000\n",
            "   macro avg       0.90      0.89      0.90      1000\n",
            "weighted avg       0.90      0.90      0.90      1000\n",
            "\n",
            "\n",
            "Confusion Matrix:\n",
            "     0    1\n",
            "0  489   38\n",
            "1   66  407\n"
          ]
        }
      ],
      "source": [
        "y = df_shuffled[\"Lead_Acquired\"]\n",
        "X = df_shuffled.drop(columns = \"Lead_Acquired\")\n",
        "X_train_new, X_test_new, y_train_new, y_test_new = train_test_split(X, y, test_size=0.1, random_state=7)\n",
        "\n",
        "rf_model = RandomForestClassifier(n_estimators=40, random_state=7)\n",
        "rf_model.fit(X_train_new, y_train_new)\n",
        "y_pred_rf = rf_model.predict(X_test_new)\n",
        "\n",
        "accuracy = accuracy_score(y_test_new, y_pred_rf)\n",
        "print(f'The accuracy score of Random Forest model is {accuracy: 0.2f}')\n",
        "print()\n",
        "print(classification_report(y_test_new, y_pred_rf))\n",
        "print(\"\\nConfusion Matrix:\")\n",
        "print(pd.DataFrame(confusion_matrix(y_test_new, y_pred_rf)))"
      ]
    },
    {
      "cell_type": "markdown",
      "metadata": {
        "id": "d9CnW80nMOMR"
      },
      "source": [
        "#<font color=\"lightgreen\"> 3) Clustering data:</font>"
      ]
    },
    {
      "cell_type": "markdown",
      "metadata": {
        "id": "Z69G15DEZJfP"
      },
      "source": [
        "<font color=\"lightgreen\">-Agglomerative Clustering</font>"
      ]
    },
    {
      "cell_type": "code",
      "execution_count": 60,
      "metadata": {},
      "outputs": [
        {
          "name": "stdout",
          "output_type": "stream",
          "text": [
            "Silhouette Score: 0.52\n"
          ]
        }
      ],
      "source": [
        "X_scaled = np.vstack((X_train, X_test))\n",
        "ac_ = AgglomerativeClustering(n_clusters=5)       \n",
        "bucket = ac_.fit_predict(X_scaled)\n",
        "silhouette_avg = silhouette_score(X_scaled, bucket)\n",
        "       \n",
        "print(f'Silhouette Score: {silhouette_avg:.2f}')"
      ]
    },
    {
      "cell_type": "markdown",
      "metadata": {
        "id": "JSzuHR4QaGTb"
      },
      "source": [
        "#<font color=\"lightgreen\">4) Assigning clusters to our initial dataset:</font>"
      ]
    },
    {
      "cell_type": "code",
      "execution_count": 61,
      "metadata": {
        "collapsed": true,
        "id": "M0b9vph-PWOt"
      },
      "outputs": [],
      "source": [
        "clust = df_shuffled.copy()\n",
        "clust[\"bucket\"] = bucket\n",
        "clusters = {}\n",
        "for i in range(5):\n",
        "  clusters[f'clust_{i}'] = clust[clust[\"bucket\"] == i].copy()"
      ]
    },
    {
      "cell_type": "markdown",
      "metadata": {
        "id": "5UuHcRjLe7k6"
      },
      "source": [
        "#<font color=\"lightgreen\"> 5) Monte Carlo simulation:</font>"
      ]
    },
    {
      "cell_type": "code",
      "execution_count": 62,
      "metadata": {
        "colab": {
          "base_uri": "https://localhost:8080/"
        },
        "id": "dCUQgvo915sg",
        "outputId": "21079cb1-858f-47ad-bf32-3df330f80253"
      },
      "outputs": [
        {
          "name": "stdout",
          "output_type": "stream",
          "text": [
            "1292.92\n",
            "23081.95\n"
          ]
        }
      ],
      "source": [
        "np.random.seed(42)\n",
        "mean = df_shuffled['Total_Campaign_Cost'].mean()\n",
        "std_dev = df_shuffled['Total_Campaign_Cost'].std()\n",
        "\n",
        "num_simulations = 1000\n",
        "random_samples = np.random.normal(mean, std_dev, num_simulations)\n",
        "random_samples = np.maximum(random_samples, 0)\n",
        "\n",
        "print(df_shuffled[\"Total_Campaign_Cost\"].min())\n",
        "print(df_shuffled[\"Total_Campaign_Cost\"].max())"
      ]
    },
    {
      "cell_type": "markdown",
      "metadata": {},
      "source": [
        "We will begin by testing all models to identify which one converges to distinct acquisition cost recommendations for each cluster, as this is critical to solving our optimization objective:"
      ]
    },
    {
      "cell_type": "code",
      "execution_count": 63,
      "metadata": {
        "colab": {
          "base_uri": "https://localhost:8080/"
        },
        "collapsed": true,
        "id": "j1jPOigOvH_r",
        "outputId": "51205b14-52d4-42e3-c084-cefaf7b2ac8a"
      },
      "outputs": [
        {
          "data": {
            "text/plain": [
              "{'clust_clust_0': {'value': 18830356.3916071, 'index': 790},\n",
              " 'clust_clust_1': {'value': 31186352.00068979, 'index': 845},\n",
              " 'clust_clust_2': {'value': 11637301.561547128, 'index': 27},\n",
              " 'clust_clust_3': {'value': 30240604.38106722, 'index': 363},\n",
              " 'clust_clust_4': {'value': 10651369.53143577, 'index': 790}}"
            ]
          },
          "execution_count": 63,
          "metadata": {},
          "output_type": "execute_result"
        }
      ],
      "source": [
        "def calculate_profit(cost):\n",
        "    revenue = 25000\n",
        "    profit_dict = {f'clust_{i}': [] for i in clusters}\n",
        "\n",
        "    for i in clusters:\n",
        "        clusters[i][\"Total_Campaign_Cost\"] = cost\n",
        "        cluster_data = clusters[i].drop(columns=[\"bucket\", \"Lead_Acquired\"])\n",
        "        cluster_scaled_sc = scaler.transform(cluster_data.iloc[:, 0:4])\n",
        "        cluster_scaled = np.hstack((cluster_scaled_sc, cluster_data.iloc[:, 4:]))\n",
        "\n",
        "        predicted_matriculation = lda_.predict(cluster_scaled)  # Use your trained model\n",
        "        leads_accepting = predicted_matriculation.sum()\n",
        "        profit = leads_accepting * (revenue - cost)\n",
        "        profit_dict[f'clust_{i}'].append(profit)\n",
        "\n",
        "    return {cluster: max(profits) for cluster, profits in profit_dict.items()}\n",
        "\n",
        "# Run simulations for different scholarship amounts\n",
        "profits = [calculate_profit(cost) for cost in random_samples]\n",
        "\n",
        "max_values = {}\n",
        "\n",
        "for idx, profit_dict in enumerate(profits):\n",
        "    for key, value in profit_dict.items():\n",
        "        if key not in max_values:\n",
        "            max_values[key] = {'value': value, 'index': idx}\n",
        "        else:\n",
        "            if value > max_values[key]['value']:\n",
        "                max_values[key] = {'value': value, 'index': idx}\n",
        "\n",
        "max_values"
      ]
    },
    {
      "cell_type": "markdown",
      "metadata": {},
      "source": [
        "After the test, LDA Model provided optimized solutions, and we will use it to calculate our predicted cost, lead number and maximized profit for each cluster:"
      ]
    },
    {
      "cell_type": "code",
      "execution_count": 64,
      "metadata": {
        "id": "XVNQHGRfsUly"
      },
      "outputs": [],
      "source": [
        "def calculate_profit_1(cost):\n",
        "    revenue = 25000\n",
        "\n",
        "    profit_dict = {f'clust_{i}': [] for i in clusters}\n",
        "    lead_dict = {f'clust_{i}': [] for i in clusters}\n",
        "\n",
        "    for i in clusters:\n",
        "        clusters[i][\"Total_Campaign_Cost\"] = cost\n",
        "        cluster_data = clusters[i].drop(columns=[\"bucket\", \"Lead_Acquired\"])\n",
        "\n",
        "        cluster_scaled_sc = scaler.transform(cluster_data.iloc[:, 0:4])\n",
        "        cluster_scaled = np.hstack((cluster_scaled_sc, cluster_data.iloc[:, 4:]))\n",
        "\n",
        "        predicted_lead = lda_.predict(cluster_scaled)\n",
        "\n",
        "        total_lead = predicted_lead.sum()\n",
        "        profit = total_lead * (revenue - cost)\n",
        "\n",
        "        profit_dict[f'clust_{i}'].append(profit)\n",
        "        lead_dict[f'clust_{i}'].append(total_lead)\n",
        "\n",
        "    return profit_dict, lead_dict\n",
        "\n",
        "best_exp = {f'clust_{i}': {'max_profit': -float('inf'), 'total_lead': 0, 'cost': 0} for i in clusters}\n",
        "for cost in random_samples:\n",
        "    profit_dict, lead_dict = calculate_profit_1(cost)\n",
        "\n",
        "    for cluster in profit_dict:\n",
        "        max_profit = max(profit_dict[cluster])\n",
        "        if max_profit > best_exp[cluster]['max_profit']:\n",
        "            best_exp[cluster] = {\n",
        "                'max_profit': max_profit,\n",
        "                'total_lead': lead_dict[cluster][0],\n",
        "                'cost': cost}"
      ]
    },
    {
      "cell_type": "markdown",
      "metadata": {
        "id": "tmXcFkYfj68u"
      },
      "source": [
        "#<font color=\"lightgreen\"> 6) Analyzing potential profit vs real profit:</font>"
      ]
    },
    {
      "cell_type": "code",
      "execution_count": 65,
      "metadata": {
        "id": "SntvrnT_213F"
      },
      "outputs": [],
      "source": [
        "for idx in range(len(best_exp)):\n",
        "    for buck in clust[\"bucket\"]:\n",
        "        if idx == buck:\n",
        "            clust.loc[clust[\"bucket\"] == buck, \"predicted_number_of_lead\"] = best_exp[f'clust_clust_{idx}'][\"total_lead\"]\n",
        "            clust.loc[clust[\"bucket\"] == buck, \"cost_to_acq\"] = best_exp[f'clust_clust_{idx}'][\"cost\"]\n",
        "\n",
        "clust[\"earned_profit\"] = (25000 - clust[\"Total_Campaign_Cost\"]) * clust[\"Lead_Acquired\"]\n",
        "clust[\"predicted_profit\"] = (25000 - clust[\"cost_to_acq\"]) * clust[\"predicted_number_of_lead\"] \n",
        "profitable = ((clust.groupby(\"bucket\")[\"predicted_profit\"].describe()[\"max\"]-clust.groupby(\"bucket\")[\"earned_profit\"].sum()).loc[clust.groupby(\"bucket\")[\"predicted_profit\"].describe()[\"max\"]-clust.groupby(\"bucket\")[\"earned_profit\"].sum()>=0]).index\n",
        "deficit = (clust.groupby(\"bucket\")[\"predicted_profit\"].describe()[\"max\"]-clust.groupby(\"bucket\")[\"earned_profit\"].sum()).loc[clust.groupby(\"bucket\")[\"predicted_profit\"].describe()[\"max\"]-clust.groupby(\"bucket\")[\"earned_profit\"].sum()<0]"
      ]
    },
    {
      "cell_type": "code",
      "execution_count": 66,
      "metadata": {},
      "outputs": [
        {
          "data": {
            "text/plain": [
              "Index([0, 1, 2, 3, 4], dtype='int64', name='bucket')"
            ]
          },
          "execution_count": 66,
          "metadata": {},
          "output_type": "execute_result"
        }
      ],
      "source": [
        "profitable"
      ]
    },
    {
      "cell_type": "code",
      "execution_count": 67,
      "metadata": {},
      "outputs": [
        {
          "data": {
            "text/plain": [
              "Series([], dtype: float64)"
            ]
          },
          "execution_count": 67,
          "metadata": {},
          "output_type": "execute_result"
        }
      ],
      "source": [
        "deficit"
      ]
    },
    {
      "cell_type": "markdown",
      "metadata": {
        "id": "8ZhcbDWIuGht"
      },
      "source": [
        "<font color=\"yellow\"> - let's compare Real Revenue/Exp/Profit to Predicted Revenue/Exp/Profit:"
      ]
    },
    {
      "cell_type": "code",
      "execution_count": 68,
      "metadata": {
        "colab": {
          "base_uri": "https://localhost:8080/"
        },
        "id": "Yx-QB6xfAg3r",
        "outputId": "a474b8cf-887f-4072-fac1-e06e5a555072"
      },
      "outputs": [
        {
          "name": "stdout",
          "output_type": "stream",
          "text": [
            "The Real Expense: $58,287,187\n",
            "The Real Profit earned: $61,887,813\n",
            "The Real Revenue earned: $120,175,000\n"
          ]
        }
      ],
      "source": [
        "def real_profit_calc():\n",
        "    filtered_clust = clust[clust[\"bucket\"].isin(profitable.astype(int))]\n",
        "\n",
        "    # Calculate real revenue, scholarships, and income\n",
        "    real_revenue = filtered_clust[\"Lead_Acquired\"].sum() * 25000\n",
        "    real_expense = filtered_clust.loc[filtered_clust[\"Lead_Acquired\"] == 1][\"Total_Campaign_Cost\"].sum()\n",
        "    real_income = real_revenue - real_expense\n",
        "\n",
        "    print(f'The Real Expense: ${real_expense:,.0f}')\n",
        "    print(f'The Real Profit earned: ${real_income:,.0f}')\n",
        "    print(f'The Real Revenue earned: ${real_revenue:,.0f}')\n",
        "\n",
        "    \n",
        "\n",
        "real_profit_calc()"
      ]
    },
    {
      "cell_type": "code",
      "execution_count": 69,
      "metadata": {},
      "outputs": [
        {
          "name": "stdout",
          "output_type": "stream",
          "text": [
            "The Predicted Expense: $76,129,016\n",
            "The Predicted Profit: $102,545,984\n",
            "The Predicted Revenue: $178,675,000\n"
          ]
        }
      ],
      "source": [
        "def pred_profit_calc():\n",
        "    clust_0_prof = clust.loc[clust[\"bucket\"] == 0][\"predicted_profit\"].iloc[0]\n",
        "    clust_0_cost = clust.loc[clust[\"bucket\"] == 0][\"cost_to_acq\"].iloc[0] * clust.loc[clust[\"bucket\"] == 0][\"predicted_number_of_lead\"].iloc[0]\n",
        "    clust_0_rev = clust.loc[clust[\"bucket\"] == 0][\"predicted_number_of_lead\"].iloc[0]*25000\n",
        "\n",
        "    clust_1_prof = clust.loc[clust[\"bucket\"] == 1][\"predicted_profit\"].iloc[0]\n",
        "    clust_1_cost = clust.loc[clust[\"bucket\"] == 1][\"cost_to_acq\"].iloc[0] * clust.loc[clust[\"bucket\"] == 1][\"predicted_number_of_lead\"].iloc[0]\n",
        "    clust_1_rev =clust.loc[clust[\"bucket\"] == 1][\"predicted_number_of_lead\"].iloc[0]*25000\n",
        "\n",
        "    clust_2_prof = clust.loc[clust[\"bucket\"] == 2][\"predicted_profit\"].iloc[0]\n",
        "    clust_2_cost = clust.loc[clust[\"bucket\"] == 2][\"cost_to_acq\"].iloc[0] * clust.loc[clust[\"bucket\"] == 2][\"predicted_number_of_lead\"].iloc[0]\n",
        "    clust_2_rev =clust.loc[clust[\"bucket\"] == 2][\"predicted_number_of_lead\"].iloc[0]*25000\n",
        "\n",
        "    clust_3_prof = clust.loc[clust[\"bucket\"] == 3][\"predicted_profit\"].iloc[0]\n",
        "    clust_3_cost = clust.loc[clust[\"bucket\"] == 3][\"cost_to_acq\"].iloc[0] * clust.loc[clust[\"bucket\"] == 3][\"predicted_number_of_lead\"].iloc[0]\n",
        "    clust_3_rev =clust.loc[clust[\"bucket\"] == 3][\"predicted_number_of_lead\"].iloc[0]*25000\n",
        "\n",
        "    clust_4_prof = clust.loc[clust[\"bucket\"] == 4][\"predicted_profit\"].iloc[0]\n",
        "    clust_4_cost = clust.loc[clust[\"bucket\"] == 4][\"cost_to_acq\"].iloc[0] * clust.loc[clust[\"bucket\"] == 4][\"predicted_number_of_lead\"].iloc[0]\n",
        "    clust_4_rev =clust.loc[clust[\"bucket\"] == 4][\"predicted_number_of_lead\"].iloc[0]*25000\n",
        "\n",
        "    pred_revenue = clust_0_rev + clust_1_rev + clust_2_rev + clust_3_rev + clust_4_rev\n",
        "    pred_expense = clust_0_cost + clust_1_cost + clust_2_cost + clust_3_cost + clust_4_cost\n",
        "    pred_income = clust_0_prof + clust_1_prof + clust_2_prof + clust_3_prof + clust_4_prof\n",
        "\n",
        "    print(f'The Predicted Expense: ${pred_expense:,.0f}')\n",
        "    print(f'The Predicted Profit: ${pred_income:,.0f}')\n",
        "    print(f'The Predicted Revenue: ${pred_revenue:,.0f}')\n",
        "\n",
        "pred_profit_calc()    \n"
      ]
    },
    {
      "cell_type": "code",
      "execution_count": 70,
      "metadata": {},
      "outputs": [],
      "source": [
        "clust[\"predicted_acq_spent\"] = clust[\"cost_to_acq\"] * clust[\"predicted_number_of_lead\"]"
      ]
    },
    {
      "cell_type": "markdown",
      "metadata": {
        "id": "rTZ_SA6UyzO9"
      },
      "source": [
        "#<font color=\"lightgreen\"> 7) Final Conclusive Output:</font>"
      ]
    },
    {
      "cell_type": "markdown",
      "metadata": {
        "id": "eDP_6XPMtoGi"
      },
      "source": [
        "<font color = \"#9901a1ff\">**Δ Comparative ROI**</font><font color = \"#d1c9d1\"> = (($178,675,000-$76,129,016)/$76,129,016)/(($120,175,000-$58,287,187)/$58,287,187) = (1.35-1.06)/1.06 = </font><font color=\"#63d426\">**27.4%**</font>"
      ]
    },
    {
      "cell_type": "markdown",
      "metadata": {
        "id": "JT0Dt8Co2HKU"
      },
      "source": [
        "<font color = \"yellow\"> - let's see what cost would be asigned for each cluster</font>"
      ]
    },
    {
      "cell_type": "code",
      "execution_count": 71,
      "metadata": {},
      "outputs": [
        {
          "data": {
            "text/html": [
              "<div>\n",
              "<style scoped>\n",
              "    .dataframe tbody tr th:only-of-type {\n",
              "        vertical-align: middle;\n",
              "    }\n",
              "\n",
              "    .dataframe tbody tr th {\n",
              "        vertical-align: top;\n",
              "    }\n",
              "\n",
              "    .dataframe thead th {\n",
              "        text-align: right;\n",
              "    }\n",
              "</style>\n",
              "<table border=\"1\" class=\"dataframe\">\n",
              "  <thead>\n",
              "    <tr style=\"text-align: right;\">\n",
              "      <th></th>\n",
              "      <th>Cost</th>\n",
              "    </tr>\n",
              "  </thead>\n",
              "  <tbody>\n",
              "    <tr>\n",
              "      <th>0</th>\n",
              "      <td>10625.682144</td>\n",
              "    </tr>\n",
              "    <tr>\n",
              "      <th>1</th>\n",
              "      <td>10933.084348</td>\n",
              "    </tr>\n",
              "    <tr>\n",
              "      <th>2</th>\n",
              "      <td>10361.884828</td>\n",
              "    </tr>\n",
              "    <tr>\n",
              "      <th>3</th>\n",
              "      <td>10489.153368</td>\n",
              "    </tr>\n",
              "    <tr>\n",
              "      <th>4</th>\n",
              "      <td>10625.682144</td>\n",
              "    </tr>\n",
              "  </tbody>\n",
              "</table>\n",
              "</div>"
            ],
            "text/plain": [
              "           Cost\n",
              "0  10625.682144\n",
              "1  10933.084348\n",
              "2  10361.884828\n",
              "3  10489.153368\n",
              "4  10625.682144"
            ]
          },
          "execution_count": 71,
          "metadata": {},
          "output_type": "execute_result"
        }
      ],
      "source": [
        "def adjust_exp_():\n",
        "    adjusted_exp = {}\n",
        "\n",
        "    for i in clust[\"bucket\"].value_counts().index:\n",
        "        cluster_data = clust.loc[clust[\"bucket\"] == i]\n",
        "        cluster_data = cluster_data.drop(columns=[\"bucket\", \"Lead_Acquired\"])\n",
        "        profit_new = cluster_data[\"predicted_profit\"].sum()/len(cluster_data[\"predicted_profit\"])\n",
        "        profit_original = cluster_data[\"earned_profit\"].sum()\n",
        "\n",
        "        # Compare profits and decide on the best scholarship\n",
        "        if profit_new >= profit_original:\n",
        "            adjusted_exp[i] = cluster_data[\"cost_to_acq\"].mean()\n",
        "        else:\n",
        "\n",
        "            adjusted_exp[i] = cluster_data[\"Total_Campaign_Cost\"].mean()\n",
        "\n",
        "    return adjusted_exp\n",
        "\n",
        "adj_exp = adjust_exp_()\n",
        "adj_exp = pd.DataFrame(data = adj_exp, index = [\"Cost\"]).T\n",
        "adj_exp.sort_index(inplace = True)\n",
        "adj_exp"
      ]
    },
    {
      "cell_type": "code",
      "execution_count": 72,
      "metadata": {
        "colab": {
          "base_uri": "https://localhost:8080/",
          "height": 452
        },
        "id": "THCeenGPRXVW",
        "outputId": "7a3f3931-3523-4b4a-ec9a-27ac61575325"
      },
      "outputs": [
        {
          "data": {
            "text/plain": [
              "<Axes: >"
            ]
          },
          "execution_count": 72,
          "metadata": {},
          "output_type": "execute_result"
        },
        {
          "data": {
            "image/png": "[encoded data removed]",
            "text/plain": [
              "<Figure size 640x480 with 1 Axes>"
            ]
          },
          "metadata": {},
          "output_type": "display_data"
        }
      ],
      "source": [
        "adj_exp.plot(kind=\"bar\", color = \"#4E4EA8\", edgecolor = \"black\")"
      ]
    },
    {
      "cell_type": "code",
      "execution_count": null,
      "metadata": {},
      "outputs": [],
      "source": [
        "X"
      ]
    },
    {
      "cell_type": "code",
      "execution_count": 82,
      "metadata": {
        "id": "afLoeNKU9zOv"
      },
      "outputs": [],
      "source": [
        "clust.to_csv(\"clust.csv\")\n",
        "X.to_csv(\"data_to_test_on.csv\", index = False)"
      ]
    },
    {
      "cell_type": "code",
      "execution_count": 77,
      "metadata": {},
      "outputs": [],
      "source": [
        "with open(\"lda_.pkl\", 'wb') as f1:\n",
        "    pickle.dump(lda_, f1)\n",
        "\n",
        "with open(\"ac_.pkl\", 'wb') as f2:\n",
        "    pickle.dump(ac_, f2)"
      ]
    },
    {
      "cell_type": "markdown",
      "metadata": {
        "id": "MRYPj3VWKAhm"
      },
      "source": [
        "#<font color=\"lightgreen\"> 8) Streamlit:</font>"
      ]
    },
    {
      "cell_type": "code",
      "execution_count": 78,
      "metadata": {
        "id": "Bqals-sW8tcc"
      },
      "outputs": [],
      "source": [
        "import pickle\n",
        "\n",
        "# Specify the path to your model\n",
        "model_path1 = 'lda_.pkl'\n",
        "model_path2 = 'ac_.pkl'\n",
        "\n",
        "# Load the model\n",
        "with open(model_path1, 'rb') as file1:\n",
        "    lda = pickle.load(file1)\n",
        "\n",
        "with open(model_path2, 'rb') as file2:\n",
        "    ac = pickle.load(file2)"
      ]
    },
    {
      "cell_type": "code",
      "execution_count": 83,
      "metadata": {
        "colab": {
          "base_uri": "https://localhost:8080/"
        },
        "id": "NgvTPnrUf4gj",
        "outputId": "5dbd40ef-973b-497b-a232-1e83763f3674"
      },
      "outputs": [
        {
          "name": "stdout",
          "output_type": "stream",
          "text": [
            "Overwriting app.py\n"
          ]
        }
      ],
      "source": [
        "%%writefile app.py\n",
        "\n",
        "from sklearn.neighbors import NearestCentroid\n",
        "import streamlit as st\n",
        "import pandas as pd\n",
        "import numpy as np\n",
        "import matplotlib.pyplot as plt\n",
        "import plotly.graph_objects as go\n",
        "from sklearn.cluster import AgglomerativeClustering\n",
        "import plotly.express as px\n",
        "import math\n",
        "\n",
        "if \"show_treemap\" not in st.session_state:\n",
        "    st.session_state.show_treemap = False\n",
        "\n",
        "X_ = pd.read_csv(\"data_to_test_on.csv\")\n",
        "clust = pd.read_csv(\"clust.csv\")\n",
        "ac = AgglomerativeClustering(n_clusters=5)\n",
        "bucket = ac.fit_predict(X_)\n",
        "centroid_model = NearestCentroid()\n",
        "centroid_model.fit(X_, bucket)\n",
        "\n",
        "\n",
        "def suggest_cost(cluster):\n",
        "    if cluster == 0:\n",
        "        return \"$10,626\"\n",
        "    elif cluster == 1:\n",
        "        return \"$10,933\"\n",
        "    elif cluster == 2:\n",
        "        return \"$10,362\"\n",
        "    elif cluster == 3:\n",
        "        return \"$10,489\"\n",
        "    elif cluster == 4:\n",
        "        return \"$10,626\"\n",
        "    else:\n",
        "        return \"No recommendation can be given.\"\n",
        "\n",
        "\n",
        "st.markdown(\n",
        "    \"\"\"\n",
        "     <h1 style=\"\n",
        "        text-align: center;\n",
        "        color: rgb(35, 59, 66);\">\n",
        "        Welcome to Your AI Lead Optimizer Advisor!\n",
        "    </h1>\n",
        "    \"\"\",\n",
        "    unsafe_allow_html=True,\n",
        ")\n",
        "\n",
        "st.write(\"Please upload your file below to get acquisition cost suggestions.\")\n",
        "uploaded_file = st.file_uploader(\"Upload Excel or CSV\", type=['xlsx', 'csv'])\n",
        "\n",
        "if uploaded_file:    \n",
        "    if uploaded_file.name.endswith('.csv'):\n",
        "        new_data = pd.read_csv(uploaded_file, encoding='utf-8')\n",
        "    else:\n",
        "        new_data = pd.read_excel(uploaded_file)\n",
        "\n",
        "    st.write(\"Here is a preview of your data:\")\n",
        "    st.write(new_data.head())  \n",
        "\n",
        "    new_data['Cluster'] = centroid_model.predict(new_data)\n",
        "    new_data['Cost to Acquire Suggestion'] = new_data['Cluster'].apply(suggest_cost)\n",
        "\n",
        "    st.write(\"Here are the results with cluster numbers and acquisition cost suggestions:\")\n",
        "    st.write(new_data[['Cluster', 'Cost to Acquire Suggestion']])\n",
        "\n",
        "    # Allow user to download the result\n",
        "    result_file = new_data.to_csv(index=False).encode('utf-8')\n",
        "    st.download_button(\n",
        "        label=\"Download Results as CSV\",\n",
        "        data=result_file,\n",
        "        file_name='acquisition_cost_recommendations.csv',\n",
        "        mime='text/csv'\n",
        "    )\n",
        "\n",
        "\n",
        "############################################# ALL FUNCTIONS SECTION\n",
        "####### \n",
        "# Times Contacted Distribution\n",
        "def times_contacted_distribution():\n",
        "    st.title(\"Times Contacted Distribution\")\n",
        "    stats = clust.groupby(\"bucket\")[\"Times_Contacted\"].describe()\n",
        "    selected_buckets = st.multiselect(\"Select one or more buckets:\", stats.index, key=\"unique_key_for_multiselect\")\n",
        "\n",
        "    if selected_buckets:\n",
        "        bucket_stats = stats.loc[selected_buckets]\n",
        "        for bucket, stats_row in bucket_stats.iterrows():\n",
        "          st.write(f\"### Times Contacted Distribution for Bucket: {bucket}\")\n",
        "\n",
        "          q1 = stats_row[\"25%\"]\n",
        "          q2 = stats_row[\"50%\"]\n",
        "          q3 = stats_row[\"75%\"]\n",
        "          min_age = stats_row[\"min\"]\n",
        "          max_age = stats_row[\"max\"]\n",
        "          bar_width = 500\n",
        "\n",
        "          q1_pct = (q1 - min_age) / (max_age - min_age) * 100\n",
        "          q2_pct = (q2 - min_age) / (max_age - min_age) * 100\n",
        "          q3_pct = (q3 - min_age) / (max_age - min_age) * 100\n",
        "           \n",
        "          st.markdown(\n",
        "            f\"\"\"\n",
        "            <div style='position: relative; width: {bar_width}px; height: 30px; background: linear-gradient(to right,\n",
        "            #fff4e6 0%, #ffc48c 25%, #ff7b28 50%, #ff506e 75%, #d923a3 100%);\n",
        "            border-radius: 15px;'>\n",
        "                <!-- Marker for 25th percentile (Q1) -->\n",
        "                <div style='position: absolute; left: {25}%; top: 0; bottom: 0; width: 2px; background-color: #f3fafc;'></div>\n",
        "                <div style='position: absolute; left: {25}%; top: 35px; font-size: 12px; color: black; text-align: center; transform: translateX(-50%);'>25%</div>\n",
        "                <!-- Marker for 50th percentile (Median) -->\n",
        "                <div style='position: absolute; left: {50}%; top: 0; bottom: 0; width: 2px; background-color: #f3fafc;'></div>\n",
        "                <div style='position: absolute; left: {50}%; top: 35px; font-size: 12px; color: black; text-align: center; transform: translateX(-50%);'>50%</div>\n",
        "                <!-- Marker for 75th percentile (Q3) -->\n",
        "                <div style='position: absolute; left: {75}%; top: 0; bottom: 0; width: 2px; background-color: #f3fafc;'></div>\n",
        "                <div style='position: absolute; left: {75}%; top: 35px; font-size: 12px; color: black; text-align: center; transform: translateX(-50%);'>75%</div>\n",
        "            </div>\n",
        "            \"\"\", unsafe_allow_html=True)\n",
        "\n",
        "          # Display Quartile Labels\n",
        "          st.markdown(\"<br>\", unsafe_allow_html=True)  \n",
        "          st.markdown(\"<br>\", unsafe_allow_html=True)  \n",
        "          st.write(f\"**Min:** {min_age}\")\n",
        "          st.write(f\"**25th Percentile (Q1):** {q1}\")\n",
        "          st.write(f\"**50th Percentile (Median):** {q2}\")\n",
        "          st.write(f\"**75th Percentile (Q3):** {q3}\")\n",
        "          st.write(f\"**Max:** {max_age}\")\n",
        "          st.markdown(\"<br>\", unsafe_allow_html=True)\n",
        "    else:\n",
        "      st.write(\"Please select at least one bucket.\")\n",
        "\n",
        "\n",
        "#######\n",
        "# Days to Respond Distribution\n",
        "def days_distribution():\n",
        "    st.title(\"Days to Respond Distribution by Bucket\")\n",
        "    selected_buckets2 = st.multiselect(\"Select one or more buckets:\", clust['bucket'].unique(), key=\"unique_key_for_multiselect2\")\n",
        "\n",
        "    if selected_buckets2:\n",
        "        selected_data = clust[clust['bucket'].isin(selected_buckets2)]\n",
        "        fig_width = max(8, len(selected_buckets2) * 1.5)  \n",
        "        fig, ax = plt.subplots(figsize=(fig_width, 6))\n",
        "        ax.set_facecolor(\"#ffffff\")\n",
        "\n",
        "        boxprops = dict(facecolor=\"#233B42\", edgecolor = \"#233B42\")  \n",
        "        medianprops = dict(color=\"white\", linestyle=\":\") \n",
        "        flierprops = dict(marker=\"o\", markerfacecolor=\"#ff506e\", markeredgecolor = \"#ff506e\", markersize=5, linestyle=\" \")  \n",
        "        capprops = dict(color=\"#233B42\", linewidth=1.5)\n",
        "        whiskerprops = dict(color=\"#233B42\", linewidth=1.5)\n",
        "        bp = selected_data.boxplot(\n",
        "        column=\"Days_to_Respond\",\n",
        "        by=\"bucket\",\n",
        "        ax=ax,\n",
        "        boxprops=boxprops,\n",
        "        medianprops=medianprops,\n",
        "        flierprops=flierprops,\n",
        "        capprops = capprops,\n",
        "        whiskerprops = whiskerprops,\n",
        "        patch_artist=True)\n",
        "\n",
        "        ax.grid(False)\n",
        "        plt.suptitle(\"\")\n",
        "        plt.suptitle(\"\") \n",
        "        ax.set_title(\"Days to Respond Distribution by Selected Buckets\")\n",
        "        ax.set_xlabel(\"Bucket\")\n",
        "        ax.set_ylabel(\"Number of Days\")\n",
        "        st.pyplot(fig)\n",
        "\n",
        "    else:\n",
        "        st.write(\"Please select at least one bucket.\")\n",
        "\n",
        "\n",
        "#######\n",
        "# Campaign Cost Distribution\n",
        "def cost_ditribution():\n",
        "    st.title(\"Total Campaign Cost by Bucket\") \n",
        "    selected_buckets4 = st.multiselect(\n",
        "        \"Select one or more buckets:\",\n",
        "        clust['bucket'].unique(),\n",
        "        key=\"unique_key_for_multiselect4\"\n",
        "    )\n",
        "\n",
        "    if selected_buckets4:\n",
        "        filtered_data = clust[clust['bucket'].isin(selected_buckets4)]\n",
        "        summary_stats = filtered_data.groupby(\"bucket\")[\"Total_Campaign_Cost\"].agg(\n",
        "            min_val=\"min\",\n",
        "            q25_val=lambda x: x.quantile(0.25),\n",
        "            median_val=\"median\",\n",
        "            q75_val=lambda x: x.quantile(0.75),\n",
        "            max_val=\"max\"\n",
        "        ).reset_index()\n",
        "        plot_data = summary_stats.set_index(\"bucket\")[[\"min_val\", \"q25_val\", \"median_val\", \"q75_val\", \"max_val\"]]\n",
        "        plot_data.columns = [\"min\", \"25%\", \"50%\", \"75%\", \"max\"]\n",
        "        custom_colors = [\"#fff4e6\", \"#ffc48c\", \"#ff7b28\", \"#ff506e\",  \"#d923a3\"]\n",
        "\n",
        "        st.write(\"Summary statistics for Campaign Cost (Selected Percentiles):\")\n",
        "        num_bars = len(selected_buckets4)\n",
        "\n",
        "        fig, ax = plt.subplots(figsize=(8, max(2, len(selected_buckets4) * 0.8)))\n",
        "        ax.set_ylim(-1, len(selected_buckets4) + 0.3)\n",
        "\n",
        "        summary_stats['y_index'] = range(len(summary_stats))\n",
        "        for index, row in summary_stats.iterrows():\n",
        "          y_index = row[\"y_index\"]\n",
        "          min_val = row[\"min_val\"]\n",
        "          q25_val = row[\"q25_val\"] - min_val\n",
        "          median_val = row[\"median_val\"] - row[\"q25_val\"]\n",
        "          q75_val = row[\"q75_val\"] - row[\"median_val\"]\n",
        "          max_val = row[\"max_val\"] - row[\"q75_val\"]\n",
        "\n",
        "          ax.barh(index, min_val, color=\"#233B42\", label=\"min\" if index == 0 else \"\")\n",
        "          ax.barh(index, q25_val, left=min_val, color=\"#ffc48c\", label=\"25%\" if index == 0 else \"\")\n",
        "          ax.barh(index, median_val, left=row[\"q25_val\"], color=\"#ff7b28\", label=\"median\" if index == 0 else \"\")\n",
        "          ax.barh(index, q75_val, left=row[\"median_val\"], color=\"#ff506e\", label=\"75%\" if index == 0 else \"\")\n",
        "          ax.barh(index, max_val, left=row[\"q75_val\"], color=\"#d923a3\", label=\"max\" if index == 0 else \"\")\n",
        "\n",
        "        ax.set_xlabel('Value')\n",
        "        ax.set_ylabel('Buckets')\n",
        "        ax.set_yticks(range(len(selected_buckets4)))\n",
        "        ax.set_yticklabels([f\"Bucket {int(b)}\" for b in plot_data.index])\n",
        "        ax.legend(['min', '25%', '50%', '75%', 'max'], title='Statistics')\n",
        "        st.pyplot(fig)\n",
        "\n",
        "        for bucket in selected_buckets4:\n",
        "            summary_stats = filtered_data.groupby(\"bucket\")[\"Total_Campaign_Cost\"].describe()\n",
        "            bucket_stats = summary_stats.loc[bucket]\n",
        "            mean_value = bucket_stats['mean']\n",
        "\n",
        "            st.write(f\"Gauge Chart for Bucket: {bucket}\")\n",
        "            st.write(f\"Mean of Campaign Cost: {mean_value:.0f}\")\n",
        "\n",
        "            gauge_chart = go.Figure(go.Indicator(\n",
        "                mode=\"gauge+number\",\n",
        "                value=mean_value,\n",
        "                title={'text': f\"Bucket {bucket}: Campaign Cost Mean of {mean_value:.0f}\"},\n",
        "\n",
        "                gauge={\n",
        "                    'axis': {'range': [None, bucket_stats['max']]},\n",
        "                    'bar': {'color': \"#233B42\", 'thickness': 0.5},  # Hide the default bar\n",
        "                    'steps': [\n",
        "                        {'range': [0, bucket_stats['25%']], 'color': \"#5ACE20\"},\n",
        "                        {'range': [bucket_stats['25%'], bucket_stats['50%']], 'color': \"#FFFF33\"},\n",
        "                        {'range': [bucket_stats['50%'], bucket_stats['75%']], 'color': \"#FF9A00\"},\n",
        "                        {'range': [bucket_stats['75%'], bucket_stats['max']], 'color': \"#FF3C00\"}\n",
        "                    ]\n",
        "                        }\n",
        "            ))\n",
        "            st.plotly_chart(gauge_chart)\n",
        "\n",
        "    else:\n",
        "      st.write(\"Please select one or more buckets to visualize the data.\")\n",
        "\n",
        "\n",
        "#######\n",
        "# Predicted Profit Calculation\n",
        "def pred_profit_calc():\n",
        "    clust_0_prof = clust.loc[clust[\"bucket\"] == 0][\"predicted_profit\"].iloc[0]\n",
        "    clust_0_cost = clust.loc[clust[\"bucket\"] == 0][\"cost_to_acq\"].iloc[0] * clust.loc[clust[\"bucket\"] == 0][\"predicted_number_of_lead\"].iloc[0]\n",
        "    clust_0_rev = clust.loc[clust[\"bucket\"] == 0][\"predicted_number_of_lead\"].iloc[0]*25000\n",
        "\n",
        "    clust_1_prof = clust.loc[clust[\"bucket\"] == 1][\"predicted_profit\"].iloc[0]\n",
        "    clust_1_cost = clust.loc[clust[\"bucket\"] == 1][\"cost_to_acq\"].iloc[0] * clust.loc[clust[\"bucket\"] == 1][\"predicted_number_of_lead\"].iloc[0]\n",
        "    clust_1_rev =clust.loc[clust[\"bucket\"] == 1][\"predicted_number_of_lead\"].iloc[0]*25000\n",
        "\n",
        "    clust_2_prof = clust.loc[clust[\"bucket\"] == 2][\"predicted_profit\"].iloc[0]\n",
        "    clust_2_cost = clust.loc[clust[\"bucket\"] == 2][\"cost_to_acq\"].iloc[0] * clust.loc[clust[\"bucket\"] == 2][\"predicted_number_of_lead\"].iloc[0]\n",
        "    clust_2_rev =clust.loc[clust[\"bucket\"] == 2][\"predicted_number_of_lead\"].iloc[0]*25000\n",
        "\n",
        "    clust_3_prof = clust.loc[clust[\"bucket\"] == 3][\"predicted_profit\"].iloc[0]\n",
        "    clust_3_cost = clust.loc[clust[\"bucket\"] == 3][\"cost_to_acq\"].iloc[0] * clust.loc[clust[\"bucket\"] == 3][\"predicted_number_of_lead\"].iloc[0]\n",
        "    clust_3_rev =clust.loc[clust[\"bucket\"] == 3][\"predicted_number_of_lead\"].iloc[0]*25000\n",
        "\n",
        "    clust_4_prof = clust.loc[clust[\"bucket\"] == 4][\"predicted_profit\"].iloc[0]\n",
        "    clust_4_cost = clust.loc[clust[\"bucket\"] == 4][\"cost_to_acq\"].iloc[0] * clust.loc[clust[\"bucket\"] == 4][\"predicted_number_of_lead\"].iloc[0]\n",
        "    clust_4_rev =clust.loc[clust[\"bucket\"] == 4][\"predicted_number_of_lead\"].iloc[0]*25000\n",
        "\n",
        "    pred_revenue = clust_0_rev + clust_1_rev + clust_2_rev + clust_3_rev + clust_4_rev\n",
        "    pred_expense = clust_0_cost + clust_1_cost + clust_2_cost + clust_3_cost + clust_4_cost\n",
        "    pred_income = clust_0_prof + clust_1_prof + clust_2_prof + clust_3_prof + clust_4_prof\n",
        "\n",
        "    return pred_expense, pred_income, pred_revenue\n",
        "pred_profit_calc()    \n",
        "\n",
        "\n",
        "#######\n",
        "# Treemap\n",
        "def plot_treemap():\n",
        "  df_m = pd.DataFrame(columns=[\"bucket\", \"Expense\", \"Revenue\", \"Profit\", \"Profit_check\"])\n",
        "  for i in range(5):\n",
        "    profit = clust.loc[clust[\"bucket\"] == i][\"predicted_profit\"].iloc[0]\n",
        "    exp = clust.loc[clust[\"bucket\"] == i][\"cost_to_acq\"].iloc[0] * clust.loc[clust[\"bucket\"] == i][\"predicted_number_of_lead\"].iloc[0]\n",
        "    revenue = clust.loc[clust[\"bucket\"] == i][\"predicted_number_of_lead\"].iloc[0]*25000\n",
        "    profit_check = 0  \n",
        "    df_m.loc[i] = [i, exp, revenue, profit, profit_check]\n",
        "\n",
        "  df_map = df_m.copy()\n",
        "  df_map['bucket_label'] = \"Bucket: \" + df_map['bucket'].astype(str)\n",
        "  df_map['profit_label'] = df_map['Profit'].apply(lambda x: f\"Predicted Profit: ${x:,.0f}\")\n",
        "  df_map['cost_label'] = df_map['Expense'].apply(lambda x: f\"Predicted Cost Acquired: ${x:,.0f}\")\n",
        "  df_map['custom_label'] = df_map['profit_label'] + \"<br>\" + df_map['cost_label']\n",
        "  custom_color_scale = [(0, \"#d923a3\"), (0.025, \"#ff506e\"), (0.411, \"#ff7b28\"), (0.954, \"#ffc48c\"), (1, \"#233b42\")]\n",
        "\n",
        "  fig = px.treemap(\n",
        "       df_map,\n",
        "       path=['bucket_label'],\n",
        "       values='Profit',\n",
        "       color='Profit',  \n",
        "       color_continuous_scale = custom_color_scale, \n",
        "       custom_data=['custom_label']\n",
        "  )\n",
        "\n",
        "  fig.update_traces(\n",
        "      texttemplate=\"<b>%{label}</b><br>%{customdata[0]}\",\n",
        "      hovertemplate=\"%{customdata[0]}\",\n",
        "      root_color= \"red\"\n",
        "  )\n",
        "\n",
        "  fig.update_layout(width=1500, height=600, margin=dict(t=50, l=25, r=25, b=25))\n",
        "  st.plotly_chart(fig, use_container_width=True)\n",
        "\n",
        "\n",
        "####### \n",
        "# Toggle\n",
        "def toggle_(param):\n",
        "    e, p, r = pred_profit_calc()    \n",
        "    if param == \"b\":      \n",
        "        return f'${p:,.0f}'\n",
        "    elif param == \"c\":\n",
        "        return f'${e:,.0f}' \n",
        "    else:\n",
        "        return f'${r:,.0f}' \n",
        "\n",
        "\n",
        "################################################################################\n",
        "# Sidebar\n",
        "with st.sidebar:\n",
        "  st.sidebar.image(\"logo_.png\", use_container_width = True)\n",
        "  add_selectbox = st.sidebar.multiselect(\n",
        "    \"**PLEASE SELECT THE TYPE OF ANALYSIS YOU'D LIKE TO REVIEW:**\",\n",
        "    [\"Times Contacted Distribution\", \"Days to Respond Distribution by Bucket\", \"Total Campaign Cost by Bucket\"])\n",
        "\n",
        "  st.markdown(\n",
        "        \"\"\"\n",
        "        <style>\n",
        "        /* Hide the sidebar by default */\n",
        "        [data-testid=\"stSidebar\"] {\n",
        "            transform: translateX(-100%);\n",
        "            transition: transform 0.7s ease-in-out;\n",
        "            background-color: rgb(35, 59, 66);\n",
        "            color: white;\n",
        "            overflow-y: auto;\n",
        "        }\n",
        "\n",
        "        /* Show the sidebar when hovering over the left edge */\n",
        "        [data-testid=\"stAppViewContainer\"]:hover [data-testid=\"stSidebar\"],\n",
        "        [data-testid=\"stSidebar\"].expanded { /* Optional class for expanded state */\n",
        "        transform: translateX(0%);\n",
        "        }\n",
        "\n",
        "        /* Add a small visible edge to hint at the sidebar */\n",
        "        [data-testid=\"stAppViewContainer\"]::before {\n",
        "            content: '';\n",
        "            position: fixed;\n",
        "            top: 0;\n",
        "            left: 0;\n",
        "            width: 5px;\n",
        "            height: 100%;\n",
        "            background-color: rgb(35, 59, 66);\n",
        "            z-index: 1000;\n",
        "        }\n",
        "\n",
        "        /* Change the color of the multiselect widget label text */\n",
        "        [data-testid=\"stSidebar\"] label {\n",
        "            color: white !important;\n",
        "        }\n",
        "\n",
        "        /* Change the color of the text and background in the multiselect widget */\n",
        "        [data-testid=\"stSidebar\"] .stMultiSelect div[data-baseweb=\"select\"] {\n",
        "            color: white !important;\n",
        "        }\n",
        "\n",
        "        /* Change the dropdown options text color */\n",
        "        [data-testid=\"stSidebar\"] .stMultiSelect div[data-baseweb=\"select\"] span {\n",
        "            color: white !important;\n",
        "            background-color: #ff7b28 !important;\n",
        "            font-weight: bold !important;\n",
        "        }\n",
        "\n",
        "        /* Add space below the multiselect widget */\n",
        "        [data-testid=\"stSidebar\"] .stMultiSelect {\n",
        "        margin-bottom: 200px; /* Add space below the multiselect widget */\n",
        "        }\n",
        "\n",
        "        </style>\n",
        "        \"\"\",\n",
        "        unsafe_allow_html=True,\n",
        "  )\n",
        "\n",
        "  col1, col2 = st.columns([3, 1])  \n",
        "  with col1:\n",
        "    # Clickable phrase styled with HTML and CSS\n",
        "      st.markdown(\n",
        "        \"\"\"\n",
        "        <style>\n",
        "        .sidebar-item {\n",
        "            display: flex;\n",
        "            align-items: center;\n",
        "            cursor: pointer;\n",
        "            margin-top: 14.5px;\n",
        "            background-color: transparent;\n",
        "            padding: 0;\n",
        "            color: white;\n",
        "            font-size: 20px;\n",
        "        }\n",
        "\n",
        "        .sidebar-item .vertical-line {\n",
        "            border-left: 3px solid white;\n",
        "            height: 40px;\n",
        "            margin-right: 10px;\n",
        "            transition: all 0.3s ease;\n",
        "        }\n",
        "\n",
        "        .sidebar-item:hover .vertical-line {\n",
        "            border-left: 3px solid #ff7b28;\n",
        "            height: 60px;\n",
        "        }\n",
        "\n",
        "        .sidebar-item p {\n",
        "            margin: 0;\n",
        "            line-height: 40px;\n",
        "        }\n",
        "\n",
        "        .sidebar-item:hover p {\n",
        "            font-weight: bold;\n",
        "        }\n",
        "        </style>\n",
        "        <div class=\"sidebar-item\" onclick=\"window.location.href='?link=profit_distribution'\">\n",
        "          <div class=\"vertical-line\"></div>\n",
        "          <p>Profit per Bucket</p>\n",
        "        </div>\n",
        "        \"\"\",\n",
        "        unsafe_allow_html=True,\n",
        "      )\n",
        "\n",
        "  with col2:\n",
        "    st.markdown(\n",
        "        \"\"\"\n",
        "        <style>\n",
        "        .stToggle div {\n",
        "            display: flex;\n",
        "            margin-top: 0px;\n",
        "            justify-content: flex-start;\n",
        "            padding: 0px;\n",
        "            align-items: center; /* Align checkbox vertically */\n",
        "        }\n",
        "\n",
        "        </style>\n",
        "        \"\"\",\n",
        "        unsafe_allow_html=True,\n",
        "    )\n",
        "    a = st.toggle(\"\", value=False, key=\"checkbox_1\")\n",
        "\n",
        "  col3, col4 = st.columns([3, 1]) \n",
        "  with col3:\n",
        "      # Clickable phrase styled with HTML and CSS\n",
        "    st.markdown(\n",
        "          \"\"\"\n",
        "          <style>\n",
        "          .sidebar-item {\n",
        "              display: flex;\n",
        "              align-items: center;\n",
        "              cursor: pointer;\n",
        "              margin-top: 14.5px;\n",
        "              background-color: transparent;\n",
        "              padding: 0;\n",
        "              color: white;\n",
        "              font-size: 20px;\n",
        "          }\n",
        "\n",
        "          .sidebar-item .vertical-line {\n",
        "              border-left: 3px solid white;\n",
        "              height: 40px;\n",
        "              margin-right: 10px;\n",
        "              transition: all 0.3s ease;\n",
        "          }\n",
        "\n",
        "          .sidebar-item:hover .vertical-line {\n",
        "              border-left: 3px solid #ff7b28;\n",
        "              height: 60px;\n",
        "          }\n",
        "\n",
        "          .sidebar-item p {\n",
        "              margin: 0;\n",
        "              line-height: 40px;\n",
        "          }\n",
        "\n",
        "          .sidebar-item:hover p {\n",
        "              font-weight: bold;\n",
        "          }\n",
        "          </style>\n",
        "          <div class=\"sidebar-item\" onclick=\"window.location.href='?link=profit_distribution'\">\n",
        "            <div class=\"vertical-line\"></div>\n",
        "            <p>Total Profit per Acquisition Window</p>\n",
        "          </div>\n",
        "          \"\"\",\n",
        "          unsafe_allow_html=True,\n",
        "      )\n",
        "\n",
        "  with col4:\n",
        "    st.markdown(\n",
        "          \"\"\"\n",
        "          <style>\n",
        "          .stToggle div {\n",
        "              display: flex;\n",
        "              margin-top: 0px;\n",
        "              justify-content: flex-start;\n",
        "              padding: 0px;\n",
        "              align-items: center; /* Align checkbox vertically */\n",
        "              height: 40px; /* Matches text height */\n",
        "          }\n",
        "          </style>\n",
        "          \"\"\",\n",
        "          unsafe_allow_html=True,\n",
        "    )\n",
        "    b = st.toggle(\"\", value=False, key=\"checkbox_2\")\n",
        "\n",
        "\n",
        "  col5, col6 = st.columns([3, 1]) \n",
        "  with col5:\n",
        "    # Clickable phrase styled with HTML and CSS\n",
        "    st.markdown(\n",
        "          \"\"\"\n",
        "          <style>\n",
        "          .sidebar-item {\n",
        "              display: flex;\n",
        "              align-items: center;\n",
        "              cursor: pointer;\n",
        "              margin-top: 14.5px;\n",
        "              background-color: transparent;\n",
        "              padding: 0;\n",
        "              color: white;\n",
        "              font-size: 20px;\n",
        "          }\n",
        "\n",
        "          .sidebar-item .vertical-line {\n",
        "              border-left: 3px solid white;\n",
        "              height: 40px;\n",
        "              margin-right: 10px;\n",
        "              transition: all 0.3s ease;\n",
        "          }\n",
        "\n",
        "          .sidebar-item:hover .vertical-line {\n",
        "              border-left: 3px solid #ff7b28; \n",
        "              height: 60px;\n",
        "          }\n",
        "\n",
        "          .sidebar-item p {\n",
        "              margin: 0;\n",
        "              line-height: 40px;\n",
        "          }\n",
        "\n",
        "          .sidebar-item:hover p {\n",
        "              font-weight: bold;\n",
        "          }\n",
        "          </style>\n",
        "          <div class=\"sidebar-item\" onclick=\"window.location.href='?link=profit_distribution'\">\n",
        "            <div class=\"vertical-line\"></div>\n",
        "            <p>Total Expense per Acquisition Window</p>\n",
        "          </div>\n",
        "          \"\"\",\n",
        "          unsafe_allow_html=True,\n",
        "      )\n",
        "\n",
        "  with col6:\n",
        "    st.markdown(\n",
        "        \"\"\"\n",
        "        <style>\n",
        "        .stToggle div {\n",
        "            display: flex;\n",
        "            margin-top: 0px;\n",
        "            justify-content: flex-start;\n",
        "            padding: 0px;\n",
        "            align-items: center; /* Align checkbox vertically */\n",
        "        }\n",
        "\n",
        "        </style>\n",
        "        \"\"\",\n",
        "        unsafe_allow_html=True,\n",
        "    )\n",
        "    c = st.toggle(\"\", value=False, key=\"checkbox_3\")\n",
        "\n",
        "  col7, col8 = st.columns([3, 1])  \n",
        "  with col7:\n",
        "    # Clickable phrase styled with HTML and CSS\n",
        "    st.markdown(\n",
        "          \"\"\"\n",
        "          <style>\n",
        "          .sidebar-item {\n",
        "              display: flex;\n",
        "              align-items: center;\n",
        "              cursor: pointer;\n",
        "              margin-top: 14.5px;\n",
        "              background-color: transparent;\n",
        "              padding: 0;\n",
        "              color: white;\n",
        "              font-size: 20px;\n",
        "          }\n",
        "\n",
        "          .sidebar-item .vertical-line {\n",
        "              border-left: 3px solid white;\n",
        "              height: 40px;\n",
        "              margin-right: 10px;\n",
        "              transition: all 0.3s ease;\n",
        "          }\n",
        "\n",
        "          .sidebar-item:hover .vertical-line {\n",
        "              border-left: 3px solid #ff7b28;\n",
        "              height: 60px;\n",
        "          }\n",
        "\n",
        "          .sidebar-item p {\n",
        "              margin: 0;\n",
        "              line-height: 40px;\n",
        "          }\n",
        "\n",
        "          .sidebar-item:hover p {\n",
        "              font-weight: bold;\n",
        "          }\n",
        "          </style>\n",
        "          <div class=\"sidebar-item\" onclick=\"window.location.href='?link=profit_distribution'\">\n",
        "            <div class=\"vertical-line\"></div>\n",
        "            <p>Total Revenue per Acquisition Window</p>\n",
        "          </div>\n",
        "          \"\"\",\n",
        "          unsafe_allow_html=True,\n",
        "      )\n",
        "\n",
        "  with col8:\n",
        "    st.markdown(\n",
        "        \"\"\"\n",
        "        <style>\n",
        "        .stToggle div {\n",
        "            display: flex;\n",
        "            margin-top: 0px;\n",
        "            justify-content: flex-start;\n",
        "            padding: 0px;\n",
        "            align-items: center; /* Align checkbox vertically */\n",
        "        }\n",
        "\n",
        "        </style>\n",
        "        \"\"\",\n",
        "        unsafe_allow_html=True,\n",
        "    )\n",
        "    d = st.toggle(\"\", value=False, key=\"checkbox_4\")\n",
        "\n",
        "if a:\n",
        "  plot_treemap()\n",
        "\n",
        "if b:\n",
        "  total_profit = toggle_(\"b\")\n",
        "  st.markdown(f'<div class=\"info-box\">Total Profit: {total_profit}</div>', unsafe_allow_html=True)\n",
        "\n",
        "if c:\n",
        "  total_exp = toggle_(\"c\")\n",
        "  st.markdown(f'<div class=\"info-box\">Total Cost: {total_exp}</div>', unsafe_allow_html=True)\n",
        "\n",
        "if d:\n",
        "  total_revenue = toggle_(\"d\")\n",
        "  st.markdown(f'<div class=\"info-box\">Total Revenue: {total_revenue}</div>', unsafe_allow_html=True)\n",
        "\n",
        "st.markdown(\n",
        "    \"\"\"\n",
        "    <style>\n",
        "    .info-box {\n",
        "        background-color: #233B42; /* Blue background */\n",
        "        color: white; /* White text color */\n",
        "        border-radius: 10px; /* Rounded edges */\n",
        "        padding: 20px; /* Padding inside the box */\n",
        "        text-align: center; /* Center align text */\n",
        "        font-size: 20px; /* Font size */\n",
        "        font-weight: bold; /* Bold text */\n",
        "        box-shadow: 5px 5px 9px rgba( 217, 35, 163, 0.5); /* Subtle shadow */\n",
        "        width: 300px;\n",
        "        margin-bottom: 20px;\n",
        "    }\n",
        "    </style>\n",
        "    \"\"\",\n",
        "    unsafe_allow_html=True\n",
        ")\n",
        "\n",
        "analysis_functions = {\n",
        "    \"Times Contacted Distribution\": times_contacted_distribution, \"Days to Respond Distribution by Bucket\": days_distribution, \"Total Campaign Cost by Bucket\": cost_ditribution}\n",
        "\n",
        "for analysis in add_selectbox:\n",
        "    analysis_functions[analysis]()\n",
        "\n",
        "st.markdown(\n",
        "    \"\"\"\n",
        "    <style>\n",
        "    .footer {\n",
        "        position: fixed;\n",
        "        bottom: 0;\n",
        "        left: 0;\n",
        "        width: 100%;\n",
        "        background-color: #F0F0F0;\n",
        "        color: #333;\n",
        "        text-align: center;\n",
        "        padding: 15px;\n",
        "        font-size: 14px;\n",
        "        border-top: 1px solid #ccc;\n",
        "    }\n",
        "    </style>\n",
        "    <div class=\"footer\">\n",
        "        &copy; 2025 Copyright: Christina Trowbridge. All rights reserved.\n",
        "    </div>\n",
        "    \"\"\",\n",
        "    unsafe_allow_html=True\n",
        ")"
      ]
    }
  ],
  "metadata": {
    "colab": {
      "provenance": []
    },
    "kernelspec": {
      "display_name": "Python 3",
      "language": "python",
      "name": "python3"
    },
    "language_info": {
      "codemirror_mode": {
        "name": "ipython",
        "version": 3
      },
      "file_extension": ".py",
      "mimetype": "text/x-python",
      "name": "python",
      "nbconvert_exporter": "python",
      "pygments_lexer": "ipython3",
      "version": "3.10.11"
    },
    "widgets": {
      "application/vnd.jupyter.widget-state+json": {
        "05955e160baa4ea2808506b4a965264b": {
          "model_module": "@jupyter-widgets/controls",
          "model_module_version": "1.5.0",
          "model_name": "HBoxModel",
          "state": {
            "_dom_classes": [],
            "_model_module": "@jupyter-widgets/controls",
            "_model_module_version": "1.5.0",
            "_model_name": "HBoxModel",
            "_view_count": null,
            "_view_module": "@jupyter-widgets/controls",
            "_view_module_version": "1.5.0",
            "_view_name": "HBoxView",
            "box_style": "",
            "children": [
              "IPY_MODEL_d0374dc6c8e74ead82b700c8090bf46e",
              "IPY_MODEL_9520b5402d9c43029e7e0780d8d46eb0",
              "IPY_MODEL_a8bbd2a33b134c3fb78337cb3f31dcdb"
            ],
            "layout": "IPY_MODEL_e561abfcd5b249eb9c9092395c0ef405"
          }
        },
        "2105df4929c04de8928e2235d9386e25": {
          "model_module": "@jupyter-widgets/controls",
          "model_module_version": "1.5.0",
          "model_name": "DescriptionStyleModel",
          "state": {
            "_model_module": "@jupyter-widgets/controls",
            "_model_module_version": "1.5.0",
            "_model_name": "DescriptionStyleModel",
            "_view_count": null,
            "_view_module": "@jupyter-widgets/base",
            "_view_module_version": "1.2.0",
            "_view_name": "StyleView",
            "description_width": ""
          }
        },
        "2343402f34e94753a5d662a35c9ad3fc": {
          "model_module": "@jupyter-widgets/base",
          "model_module_version": "1.2.0",
          "model_name": "LayoutModel",
          "state": {
            "_model_module": "@jupyter-widgets/base",
            "_model_module_version": "1.2.0",
            "_model_name": "LayoutModel",
            "_view_count": null,
            "_view_module": "@jupyter-widgets/base",
            "_view_module_version": "1.2.0",
            "_view_name": "LayoutView",
            "align_content": null,
            "align_items": null,
            "align_self": null,
            "border": null,
            "bottom": null,
            "display": null,
            "flex": null,
            "flex_flow": null,
            "grid_area": null,
            "grid_auto_columns": null,
            "grid_auto_flow": null,
            "grid_auto_rows": null,
            "grid_column": null,
            "grid_gap": null,
            "grid_row": null,
            "grid_template_areas": null,
            "grid_template_columns": null,
            "grid_template_rows": null,
            "height": null,
            "justify_content": null,
            "justify_items": null,
            "left": null,
            "margin": null,
            "max_height": null,
            "max_width": null,
            "min_height": null,
            "min_width": null,
            "object_fit": null,
            "object_position": null,
            "order": null,
            "overflow": null,
            "overflow_x": null,
            "overflow_y": null,
            "padding": null,
            "right": null,
            "top": null,
            "visibility": null,
            "width": null
          }
        },
        "24850deba76042249ebcb8f8cb4ba4e8": {
          "model_module": "@jupyter-widgets/controls",
          "model_module_version": "1.5.0",
          "model_name": "DescriptionStyleModel",
          "state": {
            "_model_module": "@jupyter-widgets/controls",
            "_model_module_version": "1.5.0",
            "_model_name": "DescriptionStyleModel",
            "_view_count": null,
            "_view_module": "@jupyter-widgets/base",
            "_view_module_version": "1.2.0",
            "_view_name": "StyleView",
            "description_width": ""
          }
        },
        "64509da09d2d4e869da4b1dca2bb7b40": {
          "model_module": "@jupyter-widgets/controls",
          "model_module_version": "1.5.0",
          "model_name": "ProgressStyleModel",
          "state": {
            "_model_module": "@jupyter-widgets/controls",
            "_model_module_version": "1.5.0",
            "_model_name": "ProgressStyleModel",
            "_view_count": null,
            "_view_module": "@jupyter-widgets/base",
            "_view_module_version": "1.2.0",
            "_view_name": "StyleView",
            "bar_color": null,
            "description_width": ""
          }
        },
        "9520b5402d9c43029e7e0780d8d46eb0": {
          "model_module": "@jupyter-widgets/controls",
          "model_module_version": "1.5.0",
          "model_name": "FloatProgressModel",
          "state": {
            "_dom_classes": [],
            "_model_module": "@jupyter-widgets/controls",
            "_model_module_version": "1.5.0",
            "_model_name": "FloatProgressModel",
            "_view_count": null,
            "_view_module": "@jupyter-widgets/controls",
            "_view_module_version": "1.5.0",
            "_view_name": "ProgressView",
            "bar_style": "success",
            "description": "",
            "description_tooltip": null,
            "layout": "IPY_MODEL_2343402f34e94753a5d662a35c9ad3fc",
            "max": 247,
            "min": 0,
            "orientation": "horizontal",
            "style": "IPY_MODEL_64509da09d2d4e869da4b1dca2bb7b40",
            "value": 247
          }
        },
        "a8bbd2a33b134c3fb78337cb3f31dcdb": {
          "model_module": "@jupyter-widgets/controls",
          "model_module_version": "1.5.0",
          "model_name": "HTMLModel",
          "state": {
            "_dom_classes": [],
            "_model_module": "@jupyter-widgets/controls",
            "_model_module_version": "1.5.0",
            "_model_name": "HTMLModel",
            "_view_count": null,
            "_view_module": "@jupyter-widgets/controls",
            "_view_module_version": "1.5.0",
            "_view_name": "HTMLView",
            "description": "",
            "description_tooltip": null,
            "layout": "IPY_MODEL_bc3c563c8f824f0eb35fba8b593dc712",
            "placeholder": "​",
            "style": "IPY_MODEL_24850deba76042249ebcb8f8cb4ba4e8",
            "value": " 247/247 [04:34&lt;00:00,  1.02s/it]"
          }
        },
        "bc3c563c8f824f0eb35fba8b593dc712": {
          "model_module": "@jupyter-widgets/base",
          "model_module_version": "1.2.0",
          "model_name": "LayoutModel",
          "state": {
            "_model_module": "@jupyter-widgets/base",
            "_model_module_version": "1.2.0",
            "_model_name": "LayoutModel",
            "_view_count": null,
            "_view_module": "@jupyter-widgets/base",
            "_view_module_version": "1.2.0",
            "_view_name": "LayoutView",
            "align_content": null,
            "align_items": null,
            "align_self": null,
            "border": null,
            "bottom": null,
            "display": null,
            "flex": null,
            "flex_flow": null,
            "grid_area": null,
            "grid_auto_columns": null,
            "grid_auto_flow": null,
            "grid_auto_rows": null,
            "grid_column": null,
            "grid_gap": null,
            "grid_row": null,
            "grid_template_areas": null,
            "grid_template_columns": null,
            "grid_template_rows": null,
            "height": null,
            "justify_content": null,
            "justify_items": null,
            "left": null,
            "margin": null,
            "max_height": null,
            "max_width": null,
            "min_height": null,
            "min_width": null,
            "object_fit": null,
            "object_position": null,
            "order": null,
            "overflow": null,
            "overflow_x": null,
            "overflow_y": null,
            "padding": null,
            "right": null,
            "top": null,
            "visibility": null,
            "width": null
          }
        },
        "cbdcef489dd042ddb7de6e9a5e0ab44b": {
          "model_module": "@jupyter-widgets/base",
          "model_module_version": "1.2.0",
          "model_name": "LayoutModel",
          "state": {
            "_model_module": "@jupyter-widgets/base",
            "_model_module_version": "1.2.0",
            "_model_name": "LayoutModel",
            "_view_count": null,
            "_view_module": "@jupyter-widgets/base",
            "_view_module_version": "1.2.0",
            "_view_name": "LayoutView",
            "align_content": null,
            "align_items": null,
            "align_self": null,
            "border": null,
            "bottom": null,
            "display": null,
            "flex": null,
            "flex_flow": null,
            "grid_area": null,
            "grid_auto_columns": null,
            "grid_auto_flow": null,
            "grid_auto_rows": null,
            "grid_column": null,
            "grid_gap": null,
            "grid_row": null,
            "grid_template_areas": null,
            "grid_template_columns": null,
            "grid_template_rows": null,
            "height": null,
            "justify_content": null,
            "justify_items": null,
            "left": null,
            "margin": null,
            "max_height": null,
            "max_width": null,
            "min_height": null,
            "min_width": null,
            "object_fit": null,
            "object_position": null,
            "order": null,
            "overflow": null,
            "overflow_x": null,
            "overflow_y": null,
            "padding": null,
            "right": null,
            "top": null,
            "visibility": null,
            "width": null
          }
        },
        "d0374dc6c8e74ead82b700c8090bf46e": {
          "model_module": "@jupyter-widgets/controls",
          "model_module_version": "1.5.0",
          "model_name": "HTMLModel",
          "state": {
            "_dom_classes": [],
            "_model_module": "@jupyter-widgets/controls",
            "_model_module_version": "1.5.0",
            "_model_name": "HTMLModel",
            "_view_count": null,
            "_view_module": "@jupyter-widgets/controls",
            "_view_module_version": "1.5.0",
            "_view_name": "HTMLView",
            "description": "",
            "description_tooltip": null,
            "layout": "IPY_MODEL_cbdcef489dd042ddb7de6e9a5e0ab44b",
            "placeholder": "​",
            "style": "IPY_MODEL_2105df4929c04de8928e2235d9386e25",
            "value": "100%"
          }
        },
        "e561abfcd5b249eb9c9092395c0ef405": {
          "model_module": "@jupyter-widgets/base",
          "model_module_version": "1.2.0",
          "model_name": "LayoutModel",
          "state": {
            "_model_module": "@jupyter-widgets/base",
            "_model_module_version": "1.2.0",
            "_model_name": "LayoutModel",
            "_view_count": null,
            "_view_module": "@jupyter-widgets/base",
            "_view_module_version": "1.2.0",
            "_view_name": "LayoutView",
            "align_content": null,
            "align_items": null,
            "align_self": null,
            "border": null,
            "bottom": null,
            "display": null,
            "flex": null,
            "flex_flow": null,
            "grid_area": null,
            "grid_auto_columns": null,
            "grid_auto_flow": null,
            "grid_auto_rows": null,
            "grid_column": null,
            "grid_gap": null,
            "grid_row": null,
            "grid_template_areas": null,
            "grid_template_columns": null,
            "grid_template_rows": null,
            "height": null,
            "justify_content": null,
            "justify_items": null,
            "left": null,
            "margin": null,
            "max_height": null,
            "max_width": null,
            "min_height": null,
            "min_width": null,
            "object_fit": null,
            "object_position": null,
            "order": null,
            "overflow": null,
            "overflow_x": null,
            "overflow_y": null,
            "padding": null,
            "right": null,
            "top": null,
            "visibility": null,
            "width": null
          }
        }
      }
    }
  },
  "nbformat": 4,
  "nbformat_minor": 0
}
